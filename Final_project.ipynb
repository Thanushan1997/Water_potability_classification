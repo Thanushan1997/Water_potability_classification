{
 "cells": [
  {
   "cell_type": "code",
   "execution_count": 1,
   "metadata": {},
   "outputs": [],
   "source": [
    "import pandas as pd\n",
    "import matplotlib.pyplot as plt\n",
    "import numpy as np\n",
    "import seaborn as sns\n",
    "\n",
    "from sklearn.model_selection import train_test_split\n",
    "from sklearn.preprocessing import StandardScaler\n",
    "from sklearn.linear_model import LogisticRegression\n",
    "from sklearn.ensemble import RandomForestClassifier\n",
    "from sklearn.tree import DecisionTreeClassifier\n",
    "\n",
    "%matplotlib inline"
   ]
  },
  {
   "cell_type": "code",
   "execution_count": 2,
   "metadata": {},
   "outputs": [],
   "source": [
    "df = pd.read_csv('water_potability.csv')"
   ]
  },
  {
   "cell_type": "code",
   "execution_count": 3,
   "metadata": {},
   "outputs": [
    {
     "data": {
      "text/plain": [
       "(3276, 10)"
      ]
     },
     "execution_count": 3,
     "metadata": {},
     "output_type": "execute_result"
    }
   ],
   "source": [
    "df.shape"
   ]
  },
  {
   "cell_type": "code",
   "execution_count": 4,
   "metadata": {},
   "outputs": [
    {
     "data": {
      "text/html": [
       "<div>\n",
       "<style scoped>\n",
       "    .dataframe tbody tr th:only-of-type {\n",
       "        vertical-align: middle;\n",
       "    }\n",
       "\n",
       "    .dataframe tbody tr th {\n",
       "        vertical-align: top;\n",
       "    }\n",
       "\n",
       "    .dataframe thead th {\n",
       "        text-align: right;\n",
       "    }\n",
       "</style>\n",
       "<table border=\"1\" class=\"dataframe\">\n",
       "  <thead>\n",
       "    <tr style=\"text-align: right;\">\n",
       "      <th></th>\n",
       "      <th>ph</th>\n",
       "      <th>Hardness</th>\n",
       "      <th>Solids</th>\n",
       "      <th>Chloramines</th>\n",
       "      <th>Sulfate</th>\n",
       "      <th>Conductivity</th>\n",
       "      <th>Organic_carbon</th>\n",
       "      <th>Trihalomethanes</th>\n",
       "      <th>Turbidity</th>\n",
       "      <th>Potability</th>\n",
       "    </tr>\n",
       "  </thead>\n",
       "  <tbody>\n",
       "    <tr>\n",
       "      <th>0</th>\n",
       "      <td>NaN</td>\n",
       "      <td>204.890455</td>\n",
       "      <td>20791.318981</td>\n",
       "      <td>7.300212</td>\n",
       "      <td>368.516441</td>\n",
       "      <td>564.308654</td>\n",
       "      <td>10.379783</td>\n",
       "      <td>86.990970</td>\n",
       "      <td>2.963135</td>\n",
       "      <td>0</td>\n",
       "    </tr>\n",
       "    <tr>\n",
       "      <th>1</th>\n",
       "      <td>3.716080</td>\n",
       "      <td>129.422921</td>\n",
       "      <td>18630.057858</td>\n",
       "      <td>6.635246</td>\n",
       "      <td>NaN</td>\n",
       "      <td>592.885359</td>\n",
       "      <td>15.180013</td>\n",
       "      <td>56.329076</td>\n",
       "      <td>4.500656</td>\n",
       "      <td>0</td>\n",
       "    </tr>\n",
       "    <tr>\n",
       "      <th>2</th>\n",
       "      <td>8.099124</td>\n",
       "      <td>224.236259</td>\n",
       "      <td>19909.541732</td>\n",
       "      <td>9.275884</td>\n",
       "      <td>NaN</td>\n",
       "      <td>418.606213</td>\n",
       "      <td>16.868637</td>\n",
       "      <td>66.420093</td>\n",
       "      <td>3.055934</td>\n",
       "      <td>0</td>\n",
       "    </tr>\n",
       "    <tr>\n",
       "      <th>3</th>\n",
       "      <td>8.316766</td>\n",
       "      <td>214.373394</td>\n",
       "      <td>22018.417441</td>\n",
       "      <td>8.059332</td>\n",
       "      <td>356.886136</td>\n",
       "      <td>363.266516</td>\n",
       "      <td>18.436524</td>\n",
       "      <td>100.341674</td>\n",
       "      <td>4.628771</td>\n",
       "      <td>0</td>\n",
       "    </tr>\n",
       "    <tr>\n",
       "      <th>4</th>\n",
       "      <td>9.092223</td>\n",
       "      <td>181.101509</td>\n",
       "      <td>17978.986339</td>\n",
       "      <td>6.546600</td>\n",
       "      <td>310.135738</td>\n",
       "      <td>398.410813</td>\n",
       "      <td>11.558279</td>\n",
       "      <td>31.997993</td>\n",
       "      <td>4.075075</td>\n",
       "      <td>0</td>\n",
       "    </tr>\n",
       "  </tbody>\n",
       "</table>\n",
       "</div>"
      ],
      "text/plain": [
       "         ph    Hardness        Solids  Chloramines     Sulfate  Conductivity  \\\n",
       "0       NaN  204.890455  20791.318981     7.300212  368.516441    564.308654   \n",
       "1  3.716080  129.422921  18630.057858     6.635246         NaN    592.885359   \n",
       "2  8.099124  224.236259  19909.541732     9.275884         NaN    418.606213   \n",
       "3  8.316766  214.373394  22018.417441     8.059332  356.886136    363.266516   \n",
       "4  9.092223  181.101509  17978.986339     6.546600  310.135738    398.410813   \n",
       "\n",
       "   Organic_carbon  Trihalomethanes  Turbidity  Potability  \n",
       "0       10.379783        86.990970   2.963135           0  \n",
       "1       15.180013        56.329076   4.500656           0  \n",
       "2       16.868637        66.420093   3.055934           0  \n",
       "3       18.436524       100.341674   4.628771           0  \n",
       "4       11.558279        31.997993   4.075075           0  "
      ]
     },
     "execution_count": 4,
     "metadata": {},
     "output_type": "execute_result"
    }
   ],
   "source": [
    "df.head()"
   ]
  },
  {
   "cell_type": "code",
   "execution_count": 5,
   "metadata": {},
   "outputs": [
    {
     "data": {
      "text/html": [
       "<div>\n",
       "<style scoped>\n",
       "    .dataframe tbody tr th:only-of-type {\n",
       "        vertical-align: middle;\n",
       "    }\n",
       "\n",
       "    .dataframe tbody tr th {\n",
       "        vertical-align: top;\n",
       "    }\n",
       "\n",
       "    .dataframe thead th {\n",
       "        text-align: right;\n",
       "    }\n",
       "</style>\n",
       "<table border=\"1\" class=\"dataframe\">\n",
       "  <thead>\n",
       "    <tr style=\"text-align: right;\">\n",
       "      <th></th>\n",
       "      <th>ph</th>\n",
       "      <th>Hardness</th>\n",
       "      <th>Solids</th>\n",
       "      <th>Chloramines</th>\n",
       "      <th>Sulfate</th>\n",
       "      <th>Conductivity</th>\n",
       "      <th>Organic_carbon</th>\n",
       "      <th>Trihalomethanes</th>\n",
       "      <th>Turbidity</th>\n",
       "      <th>Potability</th>\n",
       "    </tr>\n",
       "  </thead>\n",
       "  <tbody>\n",
       "    <tr>\n",
       "      <th>count</th>\n",
       "      <td>2785.000000</td>\n",
       "      <td>3276.000000</td>\n",
       "      <td>3276.000000</td>\n",
       "      <td>3276.000000</td>\n",
       "      <td>2495.000000</td>\n",
       "      <td>3276.000000</td>\n",
       "      <td>3276.000000</td>\n",
       "      <td>3114.000000</td>\n",
       "      <td>3276.000000</td>\n",
       "      <td>3276.000000</td>\n",
       "    </tr>\n",
       "    <tr>\n",
       "      <th>mean</th>\n",
       "      <td>7.080795</td>\n",
       "      <td>196.369496</td>\n",
       "      <td>22014.092526</td>\n",
       "      <td>7.122277</td>\n",
       "      <td>333.775777</td>\n",
       "      <td>426.205111</td>\n",
       "      <td>14.284970</td>\n",
       "      <td>66.396293</td>\n",
       "      <td>3.966786</td>\n",
       "      <td>0.390110</td>\n",
       "    </tr>\n",
       "    <tr>\n",
       "      <th>std</th>\n",
       "      <td>1.594320</td>\n",
       "      <td>32.879761</td>\n",
       "      <td>8768.570828</td>\n",
       "      <td>1.583085</td>\n",
       "      <td>41.416840</td>\n",
       "      <td>80.824064</td>\n",
       "      <td>3.308162</td>\n",
       "      <td>16.175008</td>\n",
       "      <td>0.780382</td>\n",
       "      <td>0.487849</td>\n",
       "    </tr>\n",
       "    <tr>\n",
       "      <th>min</th>\n",
       "      <td>0.000000</td>\n",
       "      <td>47.432000</td>\n",
       "      <td>320.942611</td>\n",
       "      <td>0.352000</td>\n",
       "      <td>129.000000</td>\n",
       "      <td>181.483754</td>\n",
       "      <td>2.200000</td>\n",
       "      <td>0.738000</td>\n",
       "      <td>1.450000</td>\n",
       "      <td>0.000000</td>\n",
       "    </tr>\n",
       "    <tr>\n",
       "      <th>25%</th>\n",
       "      <td>6.093092</td>\n",
       "      <td>176.850538</td>\n",
       "      <td>15666.690297</td>\n",
       "      <td>6.127421</td>\n",
       "      <td>307.699498</td>\n",
       "      <td>365.734414</td>\n",
       "      <td>12.065801</td>\n",
       "      <td>55.844536</td>\n",
       "      <td>3.439711</td>\n",
       "      <td>0.000000</td>\n",
       "    </tr>\n",
       "    <tr>\n",
       "      <th>50%</th>\n",
       "      <td>7.036752</td>\n",
       "      <td>196.967627</td>\n",
       "      <td>20927.833607</td>\n",
       "      <td>7.130299</td>\n",
       "      <td>333.073546</td>\n",
       "      <td>421.884968</td>\n",
       "      <td>14.218338</td>\n",
       "      <td>66.622485</td>\n",
       "      <td>3.955028</td>\n",
       "      <td>0.000000</td>\n",
       "    </tr>\n",
       "    <tr>\n",
       "      <th>75%</th>\n",
       "      <td>8.062066</td>\n",
       "      <td>216.667456</td>\n",
       "      <td>27332.762127</td>\n",
       "      <td>8.114887</td>\n",
       "      <td>359.950170</td>\n",
       "      <td>481.792304</td>\n",
       "      <td>16.557652</td>\n",
       "      <td>77.337473</td>\n",
       "      <td>4.500320</td>\n",
       "      <td>1.000000</td>\n",
       "    </tr>\n",
       "    <tr>\n",
       "      <th>max</th>\n",
       "      <td>14.000000</td>\n",
       "      <td>323.124000</td>\n",
       "      <td>61227.196008</td>\n",
       "      <td>13.127000</td>\n",
       "      <td>481.030642</td>\n",
       "      <td>753.342620</td>\n",
       "      <td>28.300000</td>\n",
       "      <td>124.000000</td>\n",
       "      <td>6.739000</td>\n",
       "      <td>1.000000</td>\n",
       "    </tr>\n",
       "  </tbody>\n",
       "</table>\n",
       "</div>"
      ],
      "text/plain": [
       "                ph     Hardness        Solids  Chloramines      Sulfate  \\\n",
       "count  2785.000000  3276.000000   3276.000000  3276.000000  2495.000000   \n",
       "mean      7.080795   196.369496  22014.092526     7.122277   333.775777   \n",
       "std       1.594320    32.879761   8768.570828     1.583085    41.416840   \n",
       "min       0.000000    47.432000    320.942611     0.352000   129.000000   \n",
       "25%       6.093092   176.850538  15666.690297     6.127421   307.699498   \n",
       "50%       7.036752   196.967627  20927.833607     7.130299   333.073546   \n",
       "75%       8.062066   216.667456  27332.762127     8.114887   359.950170   \n",
       "max      14.000000   323.124000  61227.196008    13.127000   481.030642   \n",
       "\n",
       "       Conductivity  Organic_carbon  Trihalomethanes    Turbidity   Potability  \n",
       "count   3276.000000     3276.000000      3114.000000  3276.000000  3276.000000  \n",
       "mean     426.205111       14.284970        66.396293     3.966786     0.390110  \n",
       "std       80.824064        3.308162        16.175008     0.780382     0.487849  \n",
       "min      181.483754        2.200000         0.738000     1.450000     0.000000  \n",
       "25%      365.734414       12.065801        55.844536     3.439711     0.000000  \n",
       "50%      421.884968       14.218338        66.622485     3.955028     0.000000  \n",
       "75%      481.792304       16.557652        77.337473     4.500320     1.000000  \n",
       "max      753.342620       28.300000       124.000000     6.739000     1.000000  "
      ]
     },
     "execution_count": 5,
     "metadata": {},
     "output_type": "execute_result"
    }
   ],
   "source": [
    "df.describe()"
   ]
  },
  {
   "cell_type": "code",
   "execution_count": 6,
   "metadata": {},
   "outputs": [
    {
     "data": {
      "text/plain": [
       "ph                 491\n",
       "Hardness             0\n",
       "Solids               0\n",
       "Chloramines          0\n",
       "Sulfate            781\n",
       "Conductivity         0\n",
       "Organic_carbon       0\n",
       "Trihalomethanes    162\n",
       "Turbidity            0\n",
       "Potability           0\n",
       "dtype: int64"
      ]
     },
     "execution_count": 6,
     "metadata": {},
     "output_type": "execute_result"
    }
   ],
   "source": [
    "df.isnull().sum()"
   ]
  },
  {
   "cell_type": "code",
   "execution_count": 7,
   "metadata": {},
   "outputs": [
    {
     "data": {
      "text/plain": [
       "ph                 float64\n",
       "Hardness           float64\n",
       "Solids             float64\n",
       "Chloramines        float64\n",
       "Sulfate            float64\n",
       "Conductivity       float64\n",
       "Organic_carbon     float64\n",
       "Trihalomethanes    float64\n",
       "Turbidity          float64\n",
       "Potability           int64\n",
       "dtype: object"
      ]
     },
     "execution_count": 7,
     "metadata": {},
     "output_type": "execute_result"
    }
   ],
   "source": [
    "df.dtypes"
   ]
  },
  {
   "cell_type": "code",
   "execution_count": 8,
   "metadata": {},
   "outputs": [
    {
     "data": {
      "text/plain": [
       "array([[<AxesSubplot:title={'center':'ph'}>,\n",
       "        <AxesSubplot:title={'center':'Hardness'}>,\n",
       "        <AxesSubplot:title={'center':'Solids'}>],\n",
       "       [<AxesSubplot:title={'center':'Chloramines'}>,\n",
       "        <AxesSubplot:title={'center':'Sulfate'}>,\n",
       "        <AxesSubplot:title={'center':'Conductivity'}>],\n",
       "       [<AxesSubplot:title={'center':'Organic_carbon'}>,\n",
       "        <AxesSubplot:title={'center':'Trihalomethanes'}>,\n",
       "        <AxesSubplot:title={'center':'Turbidity'}>]], dtype=object)"
      ]
     },
     "execution_count": 8,
     "metadata": {},
     "output_type": "execute_result"
    },
    {
     "data": {
      "image/png": "[encoded data removed]",
      "text/plain": [
       "<Figure size 864x576 with 9 Axes>"
      ]
     },
     "metadata": {
      "needs_background": "light"
     },
     "output_type": "display_data"
    }
   ],
   "source": [
    "df.drop('Potability', axis=1).hist(figsize=(12,8))"
   ]
  },
  {
   "cell_type": "code",
   "execution_count": 9,
   "metadata": {},
   "outputs": [],
   "source": [
    "# split into train test sets\n",
    "train, test = train_test_split(df,test_size=0.2,random_state= 20)"
   ]
  },
  {
   "cell_type": "code",
   "execution_count": 10,
   "metadata": {},
   "outputs": [
    {
     "data": {
      "text/html": [
       "<div>\n",
       "<style scoped>\n",
       "    .dataframe tbody tr th:only-of-type {\n",
       "        vertical-align: middle;\n",
       "    }\n",
       "\n",
       "    .dataframe tbody tr th {\n",
       "        vertical-align: top;\n",
       "    }\n",
       "\n",
       "    .dataframe thead th {\n",
       "        text-align: right;\n",
       "    }\n",
       "</style>\n",
       "<table border=\"1\" class=\"dataframe\">\n",
       "  <thead>\n",
       "    <tr style=\"text-align: right;\">\n",
       "      <th></th>\n",
       "      <th>ph</th>\n",
       "      <th>Hardness</th>\n",
       "      <th>Solids</th>\n",
       "      <th>Chloramines</th>\n",
       "      <th>Sulfate</th>\n",
       "      <th>Conductivity</th>\n",
       "      <th>Organic_carbon</th>\n",
       "      <th>Trihalomethanes</th>\n",
       "      <th>Turbidity</th>\n",
       "      <th>Potability</th>\n",
       "    </tr>\n",
       "  </thead>\n",
       "  <tbody>\n",
       "    <tr>\n",
       "      <th>3229</th>\n",
       "      <td>NaN</td>\n",
       "      <td>203.204659</td>\n",
       "      <td>10643.186771</td>\n",
       "      <td>6.828936</td>\n",
       "      <td>NaN</td>\n",
       "      <td>384.597711</td>\n",
       "      <td>16.011328</td>\n",
       "      <td>72.911573</td>\n",
       "      <td>3.065910</td>\n",
       "      <td>1</td>\n",
       "    </tr>\n",
       "    <tr>\n",
       "      <th>2494</th>\n",
       "      <td>6.039823</td>\n",
       "      <td>164.026340</td>\n",
       "      <td>9943.637599</td>\n",
       "      <td>7.723305</td>\n",
       "      <td>350.756261</td>\n",
       "      <td>374.794719</td>\n",
       "      <td>16.668446</td>\n",
       "      <td>65.542662</td>\n",
       "      <td>3.923766</td>\n",
       "      <td>0</td>\n",
       "    </tr>\n",
       "    <tr>\n",
       "      <th>2313</th>\n",
       "      <td>NaN</td>\n",
       "      <td>144.995790</td>\n",
       "      <td>16219.475320</td>\n",
       "      <td>5.563067</td>\n",
       "      <td>379.962973</td>\n",
       "      <td>374.543069</td>\n",
       "      <td>11.118073</td>\n",
       "      <td>72.290773</td>\n",
       "      <td>4.904367</td>\n",
       "      <td>1</td>\n",
       "    </tr>\n",
       "    <tr>\n",
       "      <th>1907</th>\n",
       "      <td>7.369989</td>\n",
       "      <td>236.476721</td>\n",
       "      <td>18998.346823</td>\n",
       "      <td>7.404435</td>\n",
       "      <td>359.930566</td>\n",
       "      <td>357.066203</td>\n",
       "      <td>18.020331</td>\n",
       "      <td>58.271257</td>\n",
       "      <td>3.463852</td>\n",
       "      <td>1</td>\n",
       "    </tr>\n",
       "    <tr>\n",
       "      <th>2170</th>\n",
       "      <td>NaN</td>\n",
       "      <td>162.512684</td>\n",
       "      <td>24642.812333</td>\n",
       "      <td>7.267573</td>\n",
       "      <td>330.905370</td>\n",
       "      <td>414.650725</td>\n",
       "      <td>11.583353</td>\n",
       "      <td>73.946186</td>\n",
       "      <td>3.215740</td>\n",
       "      <td>0</td>\n",
       "    </tr>\n",
       "    <tr>\n",
       "      <th>...</th>\n",
       "      <td>...</td>\n",
       "      <td>...</td>\n",
       "      <td>...</td>\n",
       "      <td>...</td>\n",
       "      <td>...</td>\n",
       "      <td>...</td>\n",
       "      <td>...</td>\n",
       "      <td>...</td>\n",
       "      <td>...</td>\n",
       "      <td>...</td>\n",
       "    </tr>\n",
       "    <tr>\n",
       "      <th>1428</th>\n",
       "      <td>8.268308</td>\n",
       "      <td>168.687890</td>\n",
       "      <td>13181.673516</td>\n",
       "      <td>6.383226</td>\n",
       "      <td>298.307093</td>\n",
       "      <td>294.298065</td>\n",
       "      <td>12.366424</td>\n",
       "      <td>79.206473</td>\n",
       "      <td>4.405408</td>\n",
       "      <td>0</td>\n",
       "    </tr>\n",
       "    <tr>\n",
       "      <th>2441</th>\n",
       "      <td>6.304769</td>\n",
       "      <td>213.656178</td>\n",
       "      <td>30168.606596</td>\n",
       "      <td>5.210780</td>\n",
       "      <td>NaN</td>\n",
       "      <td>339.116587</td>\n",
       "      <td>14.947676</td>\n",
       "      <td>43.576389</td>\n",
       "      <td>5.109935</td>\n",
       "      <td>1</td>\n",
       "    </tr>\n",
       "    <tr>\n",
       "      <th>2972</th>\n",
       "      <td>7.948488</td>\n",
       "      <td>197.594542</td>\n",
       "      <td>23602.187832</td>\n",
       "      <td>7.098458</td>\n",
       "      <td>NaN</td>\n",
       "      <td>394.767989</td>\n",
       "      <td>14.876694</td>\n",
       "      <td>78.974227</td>\n",
       "      <td>3.891124</td>\n",
       "      <td>0</td>\n",
       "    </tr>\n",
       "    <tr>\n",
       "      <th>271</th>\n",
       "      <td>7.275909</td>\n",
       "      <td>175.220376</td>\n",
       "      <td>22644.766348</td>\n",
       "      <td>7.886855</td>\n",
       "      <td>293.309854</td>\n",
       "      <td>373.345693</td>\n",
       "      <td>17.411683</td>\n",
       "      <td>56.799287</td>\n",
       "      <td>5.062298</td>\n",
       "      <td>1</td>\n",
       "    </tr>\n",
       "    <tr>\n",
       "      <th>2522</th>\n",
       "      <td>9.152285</td>\n",
       "      <td>229.540413</td>\n",
       "      <td>24560.700606</td>\n",
       "      <td>7.042326</td>\n",
       "      <td>372.694465</td>\n",
       "      <td>395.404362</td>\n",
       "      <td>14.253308</td>\n",
       "      <td>40.974355</td>\n",
       "      <td>3.792777</td>\n",
       "      <td>0</td>\n",
       "    </tr>\n",
       "  </tbody>\n",
       "</table>\n",
       "<p>2620 rows × 10 columns</p>\n",
       "</div>"
      ],
      "text/plain": [
       "            ph    Hardness        Solids  Chloramines     Sulfate  \\\n",
       "3229       NaN  203.204659  10643.186771     6.828936         NaN   \n",
       "2494  6.039823  164.026340   9943.637599     7.723305  350.756261   \n",
       "2313       NaN  144.995790  16219.475320     5.563067  379.962973   \n",
       "1907  7.369989  236.476721  18998.346823     7.404435  359.930566   \n",
       "2170       NaN  162.512684  24642.812333     7.267573  330.905370   \n",
       "...        ...         ...           ...          ...         ...   \n",
       "1428  8.268308  168.687890  13181.673516     6.383226  298.307093   \n",
       "2441  6.304769  213.656178  30168.606596     5.210780         NaN   \n",
       "2972  7.948488  197.594542  23602.187832     7.098458         NaN   \n",
       "271   7.275909  175.220376  22644.766348     7.886855  293.309854   \n",
       "2522  9.152285  229.540413  24560.700606     7.042326  372.694465   \n",
       "\n",
       "      Conductivity  Organic_carbon  Trihalomethanes  Turbidity  Potability  \n",
       "3229    384.597711       16.011328        72.911573   3.065910           1  \n",
       "2494    374.794719       16.668446        65.542662   3.923766           0  \n",
       "2313    374.543069       11.118073        72.290773   4.904367           1  \n",
       "1907    357.066203       18.020331        58.271257   3.463852           1  \n",
       "2170    414.650725       11.583353        73.946186   3.215740           0  \n",
       "...            ...             ...              ...        ...         ...  \n",
       "1428    294.298065       12.366424        79.206473   4.405408           0  \n",
       "2441    339.116587       14.947676        43.576389   5.109935           1  \n",
       "2972    394.767989       14.876694        78.974227   3.891124           0  \n",
       "271     373.345693       17.411683        56.799287   5.062298           1  \n",
       "2522    395.404362       14.253308        40.974355   3.792777           0  \n",
       "\n",
       "[2620 rows x 10 columns]"
      ]
     },
     "execution_count": 10,
     "metadata": {},
     "output_type": "execute_result"
    }
   ],
   "source": [
    "train"
   ]
  },
  {
   "cell_type": "code",
   "execution_count": 11,
   "metadata": {},
   "outputs": [
    {
     "data": {
      "text/plain": [
       "(2620, 10)"
      ]
     },
     "execution_count": 11,
     "metadata": {},
     "output_type": "execute_result"
    }
   ],
   "source": [
    "train.shape"
   ]
  },
  {
   "cell_type": "code",
   "execution_count": 12,
   "metadata": {},
   "outputs": [
    {
     "data": {
      "text/plain": [
       "ph                 395\n",
       "Hardness             0\n",
       "Solids               0\n",
       "Chloramines          0\n",
       "Sulfate            614\n",
       "Conductivity         0\n",
       "Organic_carbon       0\n",
       "Trihalomethanes    124\n",
       "Turbidity            0\n",
       "Potability           0\n",
       "dtype: int64"
      ]
     },
     "execution_count": 12,
     "metadata": {},
     "output_type": "execute_result"
    }
   ],
   "source": [
    "train.isnull().sum()"
   ]
  },
  {
   "cell_type": "code",
   "execution_count": 13,
   "metadata": {},
   "outputs": [
    {
     "data": {
      "text/plain": [
       "ph                 15.076336\n",
       "Hardness            0.000000\n",
       "Solids              0.000000\n",
       "Chloramines         0.000000\n",
       "Sulfate            23.435115\n",
       "Conductivity        0.000000\n",
       "Organic_carbon      0.000000\n",
       "Trihalomethanes     4.732824\n",
       "Turbidity           0.000000\n",
       "Potability          0.000000\n",
       "dtype: float64"
      ]
     },
     "execution_count": 13,
     "metadata": {},
     "output_type": "execute_result"
    }
   ],
   "source": [
    "train.isnull().mean()*100 "
   ]
  },
  {
   "cell_type": "code",
   "execution_count": 14,
   "metadata": {},
   "outputs": [
    {
     "data": {
      "text/plain": [
       "array([[<AxesSubplot:title={'center':'ph'}>,\n",
       "        <AxesSubplot:title={'center':'Hardness'}>,\n",
       "        <AxesSubplot:title={'center':'Solids'}>],\n",
       "       [<AxesSubplot:title={'center':'Chloramines'}>,\n",
       "        <AxesSubplot:title={'center':'Sulfate'}>,\n",
       "        <AxesSubplot:title={'center':'Conductivity'}>],\n",
       "       [<AxesSubplot:title={'center':'Organic_carbon'}>,\n",
       "        <AxesSubplot:title={'center':'Trihalomethanes'}>,\n",
       "        <AxesSubplot:title={'center':'Turbidity'}>]], dtype=object)"
      ]
     },
     "execution_count": 14,
     "metadata": {},
     "output_type": "execute_result"
    },
    {
     "data": {
      "image/png": "[encoded data removed]",
      "text/plain": [
       "<Figure size 864x576 with 9 Axes>"
      ]
     },
     "metadata": {
      "needs_background": "light"
     },
     "output_type": "display_data"
    }
   ],
   "source": [
    "train.drop('Potability', axis=1).hist(figsize=(12,8))"
   ]
  },
  {
   "cell_type": "code",
   "execution_count": 15,
   "metadata": {},
   "outputs": [
    {
     "data": {
      "image/png": "[encoded data removed]",
      "text/plain": [
       "<Figure size 720x360 with 1 Axes>"
      ]
     },
     "metadata": {
      "needs_background": "light"
     },
     "output_type": "display_data"
    },
    {
     "data": {
      "image/png": "[encoded data removed]",
      "text/plain": [
       "<Figure size 720x360 with 1 Axes>"
      ]
     },
     "metadata": {
      "needs_background": "light"
     },
     "output_type": "display_data"
    },
    {
     "data": {
      "image/png": "[encoded data removed]",
      "text/plain": [
       "<Figure size 720x360 with 1 Axes>"
      ]
     },
     "metadata": {
      "needs_background": "light"
     },
     "output_type": "display_data"
    },
    {
     "data": {
      "image/png": "[encoded data removed]",
      "text/plain": [
       "<Figure size 720x360 with 1 Axes>"
      ]
     },
     "metadata": {
      "needs_background": "light"
     },
     "output_type": "display_data"
    },
    {
     "data": {
      "image/png": "[encoded data removed]",
      "text/plain": [
       "<Figure size 720x360 with 1 Axes>"
      ]
     },
     "metadata": {
      "needs_background": "light"
     },
     "output_type": "display_data"
    },
    {
     "data": {
      "image/png": "[encoded data removed]",
      "text/plain": [
       "<Figure size 720x360 with 1 Axes>"
      ]
     },
     "metadata": {
      "needs_background": "light"
     },
     "output_type": "display_data"
    },
    {
     "data": {
      "image/png": "[encoded data removed]",
      "text/plain": [
       "<Figure size 720x360 with 1 Axes>"
      ]
     },
     "metadata": {
      "needs_background": "light"
     },
     "output_type": "display_data"
    },
    {
     "data": {
      "image/png": "[encoded data removed]",
      "text/plain": [
       "<Figure size 720x360 with 1 Axes>"
      ]
     },
     "metadata": {
      "needs_background": "light"
     },
     "output_type": "display_data"
    },
    {
     "data": {
      "image/png": "[encoded data removed]",
      "text/plain": [
       "<Figure size 720x360 with 1 Axes>"
      ]
     },
     "metadata": {
      "needs_background": "light"
     },
     "output_type": "display_data"
    }
   ],
   "source": [
    "# All independent varibles are approximately normally distributed\n",
    "for column in train.drop('Potability', axis=1).columns:\n",
    "    #print(column)\n",
    "    plt.figure(figsize=(10,5))\n",
    "    plt.title(\"Boxplot of \"+ column, fontsize=15)\n",
    "    sns.boxplot(data = train[column], palette=\"Dark2\")\n",
    "    plt.show()\n",
    "    #train[column].boxplot(figsize=(12,8))"
   ]
  },
  {
   "cell_type": "code",
   "execution_count": 16,
   "metadata": {},
   "outputs": [
    {
     "data": {
      "image/png": "[encoded data removed]",
      "text/plain": [
       "<Figure size 432x288 with 1 Axes>"
      ]
     },
     "metadata": {
      "needs_background": "light"
     },
     "output_type": "display_data"
    },
    {
     "data": {
      "text/plain": [
       "<Figure size 720x720 with 0 Axes>"
      ]
     },
     "metadata": {},
     "output_type": "display_data"
    }
   ],
   "source": [
    "sns.countplot(data=train,x='Potability')\n",
    "plt.title('Bar plot of Potability')\n",
    "plt.figure(figsize=(10,10))\n",
    "plt.show()"
   ]
  },
  {
   "cell_type": "code",
   "execution_count": 17,
   "metadata": {},
   "outputs": [
    {
     "data": {
      "text/plain": [
       "(array([0, 1]), [Text(0, 0, '0'), Text(1, 0, '1')])"
      ]
     },
     "execution_count": 17,
     "metadata": {},
     "output_type": "execute_result"
    },
    {
     "data": {
      "image/png": "[encoded data removed]",
      "text/plain": [
       "<Figure size 360x360 with 1 Axes>"
      ]
     },
     "metadata": {},
     "output_type": "display_data"
    }
   ],
   "source": [
    "potability_df = train['Potability'].value_counts()\n",
    "#potability_df = potability_df.mul(100).rename('Percent').reset_index()\n",
    "#potability_df['percent'] = \n",
    "value0 = (potability_df[0] /(potability_df[0] + potability_df[1]))*100\n",
    "value1 = (potability_df[1] /(potability_df[0] + potability_df[1]))*100\n",
    "#print(value0)\n",
    "#print(value1)\n",
    "potability_df['percent'] = [value0,value1]\n",
    "new_df = pd.DataFrame({'index':[0,1],'percent':[value0,value1]})\n",
    "#new_df\n",
    "sns.set(font_scale=1.5)\n",
    "g = sns.catplot(x='index', y='percent', kind='bar', data=new_df)\n",
    "g.ax.set_ylim(0,100)\n",
    "plt.title('Percentage Plot of Potability', \n",
    "              fontdict={'fontsize': 20})\n",
    "plt.xlabel('Potability', fontdict={'fontsize': 20})\n",
    "plt.ylabel('Percentage', fontdict={'fontsize': 20})\n",
    "plt.xticks(rotation=75)"
   ]
  },
  {
   "cell_type": "code",
   "execution_count": 18,
   "metadata": {},
   "outputs": [
    {
     "data": {
      "image/png": "[encoded data removed]",
      "text/plain": [
       "<Figure size 432x288 with 2 Axes>"
      ]
     },
     "metadata": {},
     "output_type": "display_data"
    }
   ],
   "source": [
    "corr = train.drop('Potability', axis=1).corr()\n",
    "ax = sns.heatmap(\n",
    "    corr, \n",
    "    vmin=-1, vmax=1, center=0,\n",
    "    cmap=sns.diverging_palette(20, 220, n=200),\n",
    "    square=True\n",
    ")"
   ]
  },
  {
   "cell_type": "code",
   "execution_count": 19,
   "metadata": {},
   "outputs": [
    {
     "name": "stderr",
     "output_type": "stream",
     "text": [
      "C:\\Users\\thanu\\anaconda3\\envs\\py37\\lib\\site-packages\\ipykernel_launcher.py:3: SettingWithCopyWarning: \n",
      "A value is trying to be set on a copy of a slice from a DataFrame.\n",
      "Try using .loc[row_indexer,col_indexer] = value instead\n",
      "\n",
      "See the caveats in the documentation: https://pandas.pydata.org/pandas-docs/stable/user_guide/indexing.html#returning-a-view-versus-a-copy\n",
      "  This is separate from the ipykernel package so we can avoid doing imports until\n",
      "C:\\Users\\thanu\\anaconda3\\envs\\py37\\lib\\site-packages\\ipykernel_launcher.py:4: SettingWithCopyWarning: \n",
      "A value is trying to be set on a copy of a slice from a DataFrame.\n",
      "Try using .loc[row_indexer,col_indexer] = value instead\n",
      "\n",
      "See the caveats in the documentation: https://pandas.pydata.org/pandas-docs/stable/user_guide/indexing.html#returning-a-view-versus-a-copy\n",
      "  after removing the cwd from sys.path.\n",
      "C:\\Users\\thanu\\anaconda3\\envs\\py37\\lib\\site-packages\\ipykernel_launcher.py:5: SettingWithCopyWarning: \n",
      "A value is trying to be set on a copy of a slice from a DataFrame.\n",
      "Try using .loc[row_indexer,col_indexer] = value instead\n",
      "\n",
      "See the caveats in the documentation: https://pandas.pydata.org/pandas-docs/stable/user_guide/indexing.html#returning-a-view-versus-a-copy\n",
      "  \"\"\"\n",
      "C:\\Users\\thanu\\anaconda3\\envs\\py37\\lib\\site-packages\\ipykernel_launcher.py:6: SettingWithCopyWarning: \n",
      "A value is trying to be set on a copy of a slice from a DataFrame.\n",
      "Try using .loc[row_indexer,col_indexer] = value instead\n",
      "\n",
      "See the caveats in the documentation: https://pandas.pydata.org/pandas-docs/stable/user_guide/indexing.html#returning-a-view-versus-a-copy\n",
      "  \n",
      "C:\\Users\\thanu\\anaconda3\\envs\\py37\\lib\\site-packages\\ipykernel_launcher.py:7: SettingWithCopyWarning: \n",
      "A value is trying to be set on a copy of a slice from a DataFrame.\n",
      "Try using .loc[row_indexer,col_indexer] = value instead\n",
      "\n",
      "See the caveats in the documentation: https://pandas.pydata.org/pandas-docs/stable/user_guide/indexing.html#returning-a-view-versus-a-copy\n",
      "  import sys\n",
      "C:\\Users\\thanu\\anaconda3\\envs\\py37\\lib\\site-packages\\ipykernel_launcher.py:8: SettingWithCopyWarning: \n",
      "A value is trying to be set on a copy of a slice from a DataFrame.\n",
      "Try using .loc[row_indexer,col_indexer] = value instead\n",
      "\n",
      "See the caveats in the documentation: https://pandas.pydata.org/pandas-docs/stable/user_guide/indexing.html#returning-a-view-versus-a-copy\n",
      "  \n"
     ]
    }
   ],
   "source": [
    "#impute mean for the train data\n",
    "\n",
    "train['ph'] = train['ph'].fillna(train['ph'].mean())\n",
    "test['ph'] = test['ph'].fillna(train['ph'].mean())\n",
    "train['Sulfate'] = train['Sulfate'].fillna(train['Sulfate'].mean())\n",
    "test['Sulfate'] = test['Sulfate'].fillna(train['Sulfate'].mean())\n",
    "train['Trihalomethanes'] = train['Trihalomethanes'].fillna(train['Trihalomethanes'].mean())\n",
    "test['Trihalomethanes'] = test['Trihalomethanes'].fillna(train['Trihalomethanes'].mean())"
   ]
  },
  {
   "cell_type": "code",
   "execution_count": 20,
   "metadata": {},
   "outputs": [
    {
     "data": {
      "text/plain": [
       "ph                 0\n",
       "Hardness           0\n",
       "Solids             0\n",
       "Chloramines        0\n",
       "Sulfate            0\n",
       "Conductivity       0\n",
       "Organic_carbon     0\n",
       "Trihalomethanes    0\n",
       "Turbidity          0\n",
       "Potability         0\n",
       "dtype: int64"
      ]
     },
     "execution_count": 20,
     "metadata": {},
     "output_type": "execute_result"
    }
   ],
   "source": [
    "train.isnull().sum()"
   ]
  },
  {
   "cell_type": "code",
   "execution_count": 21,
   "metadata": {},
   "outputs": [
    {
     "data": {
      "text/plain": [
       "ph                 0\n",
       "Hardness           0\n",
       "Solids             0\n",
       "Chloramines        0\n",
       "Sulfate            0\n",
       "Conductivity       0\n",
       "Organic_carbon     0\n",
       "Trihalomethanes    0\n",
       "Turbidity          0\n",
       "Potability         0\n",
       "dtype: int64"
      ]
     },
     "execution_count": 21,
     "metadata": {},
     "output_type": "execute_result"
    }
   ],
   "source": [
    "test.isnull().sum()"
   ]
  },
  {
   "cell_type": "markdown",
   "metadata": {},
   "source": [
    "# standardize"
   ]
  },
  {
   "cell_type": "code",
   "execution_count": 49,
   "metadata": {},
   "outputs": [],
   "source": [
    "from sklearn.preprocessing import StandardScaler\n",
    "sc = StandardScaler()"
   ]
  },
  {
   "cell_type": "code",
   "execution_count": 24,
   "metadata": {},
   "outputs": [
    {
     "name": "stderr",
     "output_type": "stream",
     "text": [
      "C:\\Users\\thanu\\anaconda3\\envs\\py37\\lib\\site-packages\\ipykernel_launcher.py:1: SettingWithCopyWarning: \n",
      "A value is trying to be set on a copy of a slice from a DataFrame.\n",
      "Try using .loc[row_indexer,col_indexer] = value instead\n",
      "\n",
      "See the caveats in the documentation: https://pandas.pydata.org/pandas-docs/stable/user_guide/indexing.html#returning-a-view-versus-a-copy\n",
      "  \"\"\"Entry point for launching an IPython kernel.\n",
      "C:\\Users\\thanu\\anaconda3\\envs\\py37\\lib\\site-packages\\pandas\\core\\indexing.py:1738: SettingWithCopyWarning: \n",
      "A value is trying to be set on a copy of a slice from a DataFrame.\n",
      "Try using .loc[row_indexer,col_indexer] = value instead\n",
      "\n",
      "See the caveats in the documentation: https://pandas.pydata.org/pandas-docs/stable/user_guide/indexing.html#returning-a-view-versus-a-copy\n",
      "  self._setitem_single_column(loc, value[:, i].tolist(), pi)\n"
     ]
    }
   ],
   "source": [
    "test[features] = sc.fit_transform(test[features])"
   ]
  },
  {
   "cell_type": "code",
   "execution_count": 50,
   "metadata": {},
   "outputs": [],
   "source": [
    "X_train = train.iloc[:,:-1]\n",
    "Y_train = train.iloc[:,-1:]"
   ]
  },
  {
   "cell_type": "code",
   "execution_count": 51,
   "metadata": {},
   "outputs": [],
   "source": [
    "X_test = test.iloc[:,:-1]\n",
    "Y_test = test.iloc[:,-1:]"
   ]
  },
  {
   "cell_type": "code",
   "execution_count": 53,
   "metadata": {},
   "outputs": [
    {
     "data": {
      "text/html": [
       "<div>\n",
       "<style scoped>\n",
       "    .dataframe tbody tr th:only-of-type {\n",
       "        vertical-align: middle;\n",
       "    }\n",
       "\n",
       "    .dataframe tbody tr th {\n",
       "        vertical-align: top;\n",
       "    }\n",
       "\n",
       "    .dataframe thead th {\n",
       "        text-align: right;\n",
       "    }\n",
       "</style>\n",
       "<table border=\"1\" class=\"dataframe\">\n",
       "  <thead>\n",
       "    <tr style=\"text-align: right;\">\n",
       "      <th></th>\n",
       "      <th>ph</th>\n",
       "      <th>Hardness</th>\n",
       "      <th>Solids</th>\n",
       "      <th>Chloramines</th>\n",
       "      <th>Sulfate</th>\n",
       "      <th>Conductivity</th>\n",
       "      <th>Organic_carbon</th>\n",
       "      <th>Trihalomethanes</th>\n",
       "      <th>Turbidity</th>\n",
       "    </tr>\n",
       "  </thead>\n",
       "  <tbody>\n",
       "    <tr>\n",
       "      <th>3229</th>\n",
       "      <td>-6.029420e-16</td>\n",
       "      <td>0.208922</td>\n",
       "      <td>-1.291568</td>\n",
       "      <td>-0.179482</td>\n",
       "      <td>0.000000</td>\n",
       "      <td>-0.524834</td>\n",
       "      <td>0.518854</td>\n",
       "      <td>0.406877</td>\n",
       "      <td>-1.159647</td>\n",
       "    </tr>\n",
       "    <tr>\n",
       "      <th>2494</th>\n",
       "      <td>-6.965638e-01</td>\n",
       "      <td>-0.992554</td>\n",
       "      <td>-1.370714</td>\n",
       "      <td>0.387127</td>\n",
       "      <td>0.467576</td>\n",
       "      <td>-0.646340</td>\n",
       "      <td>0.716149</td>\n",
       "      <td>-0.060230</td>\n",
       "      <td>-0.063939</td>\n",
       "    </tr>\n",
       "    <tr>\n",
       "      <th>2313</th>\n",
       "      <td>-6.029420e-16</td>\n",
       "      <td>-1.576162</td>\n",
       "      <td>-0.660670</td>\n",
       "      <td>-0.981449</td>\n",
       "      <td>1.274907</td>\n",
       "      <td>-0.649459</td>\n",
       "      <td>-0.950311</td>\n",
       "      <td>0.367525</td>\n",
       "      <td>1.188546</td>\n",
       "    </tr>\n",
       "    <tr>\n",
       "      <th>1907</th>\n",
       "      <td>2.064222e-01</td>\n",
       "      <td>1.229271</td>\n",
       "      <td>-0.346270</td>\n",
       "      <td>0.185113</td>\n",
       "      <td>0.721172</td>\n",
       "      <td>-0.866083</td>\n",
       "      <td>1.122043</td>\n",
       "      <td>-0.521157</td>\n",
       "      <td>-0.651370</td>\n",
       "    </tr>\n",
       "    <tr>\n",
       "      <th>2170</th>\n",
       "      <td>-6.029420e-16</td>\n",
       "      <td>-1.038973</td>\n",
       "      <td>0.292342</td>\n",
       "      <td>0.098407</td>\n",
       "      <td>-0.081141</td>\n",
       "      <td>-0.152331</td>\n",
       "      <td>-0.810614</td>\n",
       "      <td>0.472460</td>\n",
       "      <td>-0.968275</td>\n",
       "    </tr>\n",
       "    <tr>\n",
       "      <th>...</th>\n",
       "      <td>...</td>\n",
       "      <td>...</td>\n",
       "      <td>...</td>\n",
       "      <td>...</td>\n",
       "      <td>...</td>\n",
       "      <td>...</td>\n",
       "      <td>...</td>\n",
       "      <td>...</td>\n",
       "      <td>...</td>\n",
       "    </tr>\n",
       "    <tr>\n",
       "      <th>1428</th>\n",
       "      <td>8.162481e-01</td>\n",
       "      <td>-0.849599</td>\n",
       "      <td>-1.004365</td>\n",
       "      <td>-0.461853</td>\n",
       "      <td>-0.982222</td>\n",
       "      <td>-1.644085</td>\n",
       "      <td>-0.575502</td>\n",
       "      <td>0.805904</td>\n",
       "      <td>0.551245</td>\n",
       "    </tr>\n",
       "    <tr>\n",
       "      <th>2441</th>\n",
       "      <td>-5.167050e-01</td>\n",
       "      <td>0.529437</td>\n",
       "      <td>0.917527</td>\n",
       "      <td>-1.204634</td>\n",
       "      <td>0.000000</td>\n",
       "      <td>-1.088566</td>\n",
       "      <td>0.199500</td>\n",
       "      <td>-1.452649</td>\n",
       "      <td>1.451111</td>\n",
       "    </tr>\n",
       "    <tr>\n",
       "      <th>2972</th>\n",
       "      <td>5.991381e-01</td>\n",
       "      <td>0.036877</td>\n",
       "      <td>0.174606</td>\n",
       "      <td>-0.008732</td>\n",
       "      <td>0.000000</td>\n",
       "      <td>-0.398775</td>\n",
       "      <td>0.178188</td>\n",
       "      <td>0.791182</td>\n",
       "      <td>-0.105631</td>\n",
       "    </tr>\n",
       "    <tr>\n",
       "      <th>271</th>\n",
       "      <td>1.425558e-01</td>\n",
       "      <td>-0.649268</td>\n",
       "      <td>0.066284</td>\n",
       "      <td>0.490741</td>\n",
       "      <td>-1.120355</td>\n",
       "      <td>-0.664301</td>\n",
       "      <td>0.939300</td>\n",
       "      <td>-0.614464</td>\n",
       "      <td>1.390266</td>\n",
       "    </tr>\n",
       "    <tr>\n",
       "      <th>2522</th>\n",
       "      <td>1.416338e+00</td>\n",
       "      <td>1.016557</td>\n",
       "      <td>0.283052</td>\n",
       "      <td>-0.044293</td>\n",
       "      <td>1.073991</td>\n",
       "      <td>-0.390887</td>\n",
       "      <td>-0.008979</td>\n",
       "      <td>-1.617589</td>\n",
       "      <td>-0.231247</td>\n",
       "    </tr>\n",
       "  </tbody>\n",
       "</table>\n",
       "<p>2620 rows × 9 columns</p>\n",
       "</div>"
      ],
      "text/plain": [
       "                ph  Hardness    Solids  Chloramines   Sulfate  Conductivity  \\\n",
       "3229 -6.029420e-16  0.208922 -1.291568    -0.179482  0.000000     -0.524834   \n",
       "2494 -6.965638e-01 -0.992554 -1.370714     0.387127  0.467576     -0.646340   \n",
       "2313 -6.029420e-16 -1.576162 -0.660670    -0.981449  1.274907     -0.649459   \n",
       "1907  2.064222e-01  1.229271 -0.346270     0.185113  0.721172     -0.866083   \n",
       "2170 -6.029420e-16 -1.038973  0.292342     0.098407 -0.081141     -0.152331   \n",
       "...            ...       ...       ...          ...       ...           ...   \n",
       "1428  8.162481e-01 -0.849599 -1.004365    -0.461853 -0.982222     -1.644085   \n",
       "2441 -5.167050e-01  0.529437  0.917527    -1.204634  0.000000     -1.088566   \n",
       "2972  5.991381e-01  0.036877  0.174606    -0.008732  0.000000     -0.398775   \n",
       "271   1.425558e-01 -0.649268  0.066284     0.490741 -1.120355     -0.664301   \n",
       "2522  1.416338e+00  1.016557  0.283052    -0.044293  1.073991     -0.390887   \n",
       "\n",
       "      Organic_carbon  Trihalomethanes  Turbidity  \n",
       "3229        0.518854         0.406877  -1.159647  \n",
       "2494        0.716149        -0.060230  -0.063939  \n",
       "2313       -0.950311         0.367525   1.188546  \n",
       "1907        1.122043        -0.521157  -0.651370  \n",
       "2170       -0.810614         0.472460  -0.968275  \n",
       "...              ...              ...        ...  \n",
       "1428       -0.575502         0.805904   0.551245  \n",
       "2441        0.199500        -1.452649   1.451111  \n",
       "2972        0.178188         0.791182  -0.105631  \n",
       "271         0.939300        -0.614464   1.390266  \n",
       "2522       -0.008979        -1.617589  -0.231247  \n",
       "\n",
       "[2620 rows x 9 columns]"
      ]
     },
     "execution_count": 53,
     "metadata": {},
     "output_type": "execute_result"
    }
   ],
   "source": [
    "features= X_train.columns\n",
    "X_train[features] = sc.fit_transform(X_train[features])\n",
    "X_train"
   ]
  },
  {
   "cell_type": "code",
   "execution_count": 54,
   "metadata": {},
   "outputs": [
    {
     "data": {
      "text/html": [
       "<div>\n",
       "<style scoped>\n",
       "    .dataframe tbody tr th:only-of-type {\n",
       "        vertical-align: middle;\n",
       "    }\n",
       "\n",
       "    .dataframe tbody tr th {\n",
       "        vertical-align: top;\n",
       "    }\n",
       "\n",
       "    .dataframe thead th {\n",
       "        text-align: right;\n",
       "    }\n",
       "</style>\n",
       "<table border=\"1\" class=\"dataframe\">\n",
       "  <thead>\n",
       "    <tr style=\"text-align: right;\">\n",
       "      <th></th>\n",
       "      <th>ph</th>\n",
       "      <th>Hardness</th>\n",
       "      <th>Solids</th>\n",
       "      <th>Chloramines</th>\n",
       "      <th>Sulfate</th>\n",
       "      <th>Conductivity</th>\n",
       "      <th>Organic_carbon</th>\n",
       "      <th>Trihalomethanes</th>\n",
       "      <th>Turbidity</th>\n",
       "    </tr>\n",
       "  </thead>\n",
       "  <tbody>\n",
       "    <tr>\n",
       "      <th>2378</th>\n",
       "      <td>-0.913279</td>\n",
       "      <td>-0.437123</td>\n",
       "      <td>-1.039275</td>\n",
       "      <td>-0.659902</td>\n",
       "      <td>1.133061</td>\n",
       "      <td>-0.218401</td>\n",
       "      <td>0.461025</td>\n",
       "      <td>-1.951505</td>\n",
       "      <td>0.176533</td>\n",
       "    </tr>\n",
       "    <tr>\n",
       "      <th>1444</th>\n",
       "      <td>-0.193132</td>\n",
       "      <td>-0.898193</td>\n",
       "      <td>-1.860674</td>\n",
       "      <td>-0.644044</td>\n",
       "      <td>1.101070</td>\n",
       "      <td>0.240155</td>\n",
       "      <td>-0.987426</td>\n",
       "      <td>-0.127591</td>\n",
       "      <td>0.414053</td>\n",
       "    </tr>\n",
       "    <tr>\n",
       "      <th>303</th>\n",
       "      <td>-0.043413</td>\n",
       "      <td>-0.430175</td>\n",
       "      <td>0.701123</td>\n",
       "      <td>0.267258</td>\n",
       "      <td>-0.983034</td>\n",
       "      <td>-0.069352</td>\n",
       "      <td>-1.761509</td>\n",
       "      <td>0.437947</td>\n",
       "      <td>-0.170048</td>\n",
       "    </tr>\n",
       "    <tr>\n",
       "      <th>2113</th>\n",
       "      <td>-0.418649</td>\n",
       "      <td>-0.384863</td>\n",
       "      <td>-0.891056</td>\n",
       "      <td>0.766883</td>\n",
       "      <td>1.097867</td>\n",
       "      <td>0.887732</td>\n",
       "      <td>-0.825551</td>\n",
       "      <td>-0.468728</td>\n",
       "      <td>-0.866669</td>\n",
       "    </tr>\n",
       "    <tr>\n",
       "      <th>2537</th>\n",
       "      <td>-1.119598</td>\n",
       "      <td>-1.362242</td>\n",
       "      <td>2.520802</td>\n",
       "      <td>-0.369939</td>\n",
       "      <td>-0.307887</td>\n",
       "      <td>-1.673111</td>\n",
       "      <td>-0.952507</td>\n",
       "      <td>0.367887</td>\n",
       "      <td>-0.351735</td>\n",
       "    </tr>\n",
       "    <tr>\n",
       "      <th>...</th>\n",
       "      <td>...</td>\n",
       "      <td>...</td>\n",
       "      <td>...</td>\n",
       "      <td>...</td>\n",
       "      <td>...</td>\n",
       "      <td>...</td>\n",
       "      <td>...</td>\n",
       "      <td>...</td>\n",
       "      <td>...</td>\n",
       "    </tr>\n",
       "    <tr>\n",
       "      <th>1927</th>\n",
       "      <td>-0.043413</td>\n",
       "      <td>-0.487151</td>\n",
       "      <td>0.456478</td>\n",
       "      <td>0.078114</td>\n",
       "      <td>0.006875</td>\n",
       "      <td>-1.380191</td>\n",
       "      <td>-1.261177</td>\n",
       "      <td>-1.523193</td>\n",
       "      <td>-2.963795</td>\n",
       "    </tr>\n",
       "    <tr>\n",
       "      <th>3264</th>\n",
       "      <td>-0.849325</td>\n",
       "      <td>1.267501</td>\n",
       "      <td>-0.154415</td>\n",
       "      <td>-0.508119</td>\n",
       "      <td>0.212993</td>\n",
       "      <td>-0.241775</td>\n",
       "      <td>1.453449</td>\n",
       "      <td>-0.139116</td>\n",
       "      <td>0.587890</td>\n",
       "    </tr>\n",
       "    <tr>\n",
       "      <th>59</th>\n",
       "      <td>-0.043413</td>\n",
       "      <td>-1.215424</td>\n",
       "      <td>-0.150807</td>\n",
       "      <td>0.640753</td>\n",
       "      <td>0.006875</td>\n",
       "      <td>-1.637492</td>\n",
       "      <td>0.724985</td>\n",
       "      <td>-0.407670</td>\n",
       "      <td>0.196692</td>\n",
       "    </tr>\n",
       "    <tr>\n",
       "      <th>605</th>\n",
       "      <td>-0.437346</td>\n",
       "      <td>-0.690374</td>\n",
       "      <td>-0.850823</td>\n",
       "      <td>0.358968</td>\n",
       "      <td>0.439462</td>\n",
       "      <td>2.820923</td>\n",
       "      <td>-1.269333</td>\n",
       "      <td>-0.577562</td>\n",
       "      <td>0.948233</td>\n",
       "    </tr>\n",
       "    <tr>\n",
       "      <th>2369</th>\n",
       "      <td>-0.655788</td>\n",
       "      <td>-1.703146</td>\n",
       "      <td>-0.039061</td>\n",
       "      <td>2.311761</td>\n",
       "      <td>0.142022</td>\n",
       "      <td>0.301911</td>\n",
       "      <td>-0.015562</td>\n",
       "      <td>-2.182420</td>\n",
       "      <td>-1.785169</td>\n",
       "    </tr>\n",
       "  </tbody>\n",
       "</table>\n",
       "<p>656 rows × 9 columns</p>\n",
       "</div>"
      ],
      "text/plain": [
       "            ph  Hardness    Solids  Chloramines   Sulfate  Conductivity  \\\n",
       "2378 -0.913279 -0.437123 -1.039275    -0.659902  1.133061     -0.218401   \n",
       "1444 -0.193132 -0.898193 -1.860674    -0.644044  1.101070      0.240155   \n",
       "303  -0.043413 -0.430175  0.701123     0.267258 -0.983034     -0.069352   \n",
       "2113 -0.418649 -0.384863 -0.891056     0.766883  1.097867      0.887732   \n",
       "2537 -1.119598 -1.362242  2.520802    -0.369939 -0.307887     -1.673111   \n",
       "...        ...       ...       ...          ...       ...           ...   \n",
       "1927 -0.043413 -0.487151  0.456478     0.078114  0.006875     -1.380191   \n",
       "3264 -0.849325  1.267501 -0.154415    -0.508119  0.212993     -0.241775   \n",
       "59   -0.043413 -1.215424 -0.150807     0.640753  0.006875     -1.637492   \n",
       "605  -0.437346 -0.690374 -0.850823     0.358968  0.439462      2.820923   \n",
       "2369 -0.655788 -1.703146 -0.039061     2.311761  0.142022      0.301911   \n",
       "\n",
       "      Organic_carbon  Trihalomethanes  Turbidity  \n",
       "2378        0.461025        -1.951505   0.176533  \n",
       "1444       -0.987426        -0.127591   0.414053  \n",
       "303        -1.761509         0.437947  -0.170048  \n",
       "2113       -0.825551        -0.468728  -0.866669  \n",
       "2537       -0.952507         0.367887  -0.351735  \n",
       "...              ...              ...        ...  \n",
       "1927       -1.261177        -1.523193  -2.963795  \n",
       "3264        1.453449        -0.139116   0.587890  \n",
       "59          0.724985        -0.407670   0.196692  \n",
       "605        -1.269333        -0.577562   0.948233  \n",
       "2369       -0.015562        -2.182420  -1.785169  \n",
       "\n",
       "[656 rows x 9 columns]"
      ]
     },
     "execution_count": 54,
     "metadata": {},
     "output_type": "execute_result"
    }
   ],
   "source": [
    "features= X_train.columns\n",
    "X_test[features] = sc.fit_transform(X_test[features])\n",
    "X_test"
   ]
  },
  {
   "cell_type": "markdown",
   "metadata": {},
   "source": [
    "# Decision Tree Classifier"
   ]
  },
  {
   "cell_type": "code",
   "execution_count": 55,
   "metadata": {},
   "outputs": [],
   "source": [
    "from sklearn.tree import DecisionTreeClassifier \n",
    "from sklearn import metrics\n",
    "from sklearn.metrics import roc_curve, auc\n",
    "from sklearn.metrics import accuracy_score\n",
    "from sklearn.model_selection import GridSearchCV"
   ]
  },
  {
   "cell_type": "code",
   "execution_count": 58,
   "metadata": {},
   "outputs": [],
   "source": [
    "params = {\n",
    "    'max_depth': [2, 3, 4, 5,6,7,8,9,10],\n",
    "    'min_samples_leaf': [5, 8, 12, 15, 20],\n",
    "    'max_features' : ['auto', 'sqrt', 'log2'],\n",
    "    'min_samples_split' : [0.01,0.05,0.1]\n",
    "}"
   ]
  },
  {
   "cell_type": "code",
   "execution_count": 59,
   "metadata": {},
   "outputs": [],
   "source": [
    "clf_TUNED = DecisionTreeClassifier(random_state=20)"
   ]
  },
  {
   "cell_type": "code",
   "execution_count": 60,
   "metadata": {},
   "outputs": [],
   "source": [
    "grid_search = GridSearchCV(estimator=clf_TUNED, \n",
    "                           param_grid=params, \n",
    "                           cv=5, n_jobs=-1, verbose=1, scoring = \"accuracy\")"
   ]
  },
  {
   "cell_type": "code",
   "execution_count": 61,
   "metadata": {},
   "outputs": [
    {
     "name": "stdout",
     "output_type": "stream",
     "text": [
      "Fitting 5 folds for each of 405 candidates, totalling 2025 fits\n"
     ]
    },
    {
     "data": {
      "text/plain": [
       "GridSearchCV(cv=5, estimator=DecisionTreeClassifier(random_state=20), n_jobs=-1,\n",
       "             param_grid={'max_depth': [2, 3, 4, 5, 6, 7, 8, 9, 10],\n",
       "                         'max_features': ['auto', 'sqrt', 'log2'],\n",
       "                         'min_samples_leaf': [5, 8, 12, 15, 20],\n",
       "                         'min_samples_split': [0.01, 0.05, 0.1]},\n",
       "             scoring='accuracy', verbose=1)"
      ]
     },
     "execution_count": 61,
     "metadata": {},
     "output_type": "execute_result"
    }
   ],
   "source": [
    "grid_search.fit(X_train, Y_train)"
   ]
  },
  {
   "cell_type": "code",
   "execution_count": 62,
   "metadata": {},
   "outputs": [
    {
     "data": {
      "text/plain": [
       "{'max_depth': 7,\n",
       " 'max_features': 'auto',\n",
       " 'min_samples_leaf': 5,\n",
       " 'min_samples_split': 0.01}"
      ]
     },
     "execution_count": 62,
     "metadata": {},
     "output_type": "execute_result"
    }
   ],
   "source": [
    "grid_search.best_params_"
   ]
  },
  {
   "cell_type": "code",
   "execution_count": 63,
   "metadata": {},
   "outputs": [
    {
     "data": {
      "text/plain": [
       "0.6267175572519085"
      ]
     },
     "execution_count": 63,
     "metadata": {},
     "output_type": "execute_result"
    }
   ],
   "source": [
    "grid_search.best_score_"
   ]
  },
  {
   "cell_type": "markdown",
   "metadata": {},
   "source": [
    "##### Use the best tuned paramater and fit the model again"
   ]
  },
  {
   "cell_type": "code",
   "execution_count": 64,
   "metadata": {},
   "outputs": [],
   "source": [
    "from sklearn.metrics import roc_curve, auc\n",
    "from sklearn.metrics import confusion_matrix\n",
    "from sklearn.metrics import classification_report"
   ]
  },
  {
   "cell_type": "code",
   "execution_count": 65,
   "metadata": {},
   "outputs": [],
   "source": [
    "DT_clf = DecisionTreeClassifier(max_depth = 7, max_features = 'auto', min_samples_leaf = 5, min_samples_split=0.01,random_state=20)"
   ]
  },
  {
   "cell_type": "code",
   "execution_count": 66,
   "metadata": {},
   "outputs": [
    {
     "data": {
      "text/plain": [
       "DecisionTreeClassifier(max_depth=7, max_features='auto', min_samples_leaf=5,\n",
       "                       min_samples_split=0.01, random_state=20)"
      ]
     },
     "execution_count": 66,
     "metadata": {},
     "output_type": "execute_result"
    }
   ],
   "source": [
    "DT_clf.fit(X_train, Y_train)"
   ]
  },
  {
   "cell_type": "code",
   "execution_count": 67,
   "metadata": {},
   "outputs": [],
   "source": [
    "Y_pred = DT_clf.predict(X_test)"
   ]
  },
  {
   "cell_type": "code",
   "execution_count": 68,
   "metadata": {},
   "outputs": [
    {
     "name": "stdout",
     "output_type": "stream",
     "text": [
      "Model accuracy score: 0.6128\n"
     ]
    }
   ],
   "source": [
    "print('Model accuracy score: {0:0.4f}'. format(accuracy_score(Y_test, Y_pred)))"
   ]
  },
  {
   "cell_type": "code",
   "execution_count": 69,
   "metadata": {},
   "outputs": [
    {
     "data": {
      "text/plain": [
       "0.5435230604011262"
      ]
     },
     "execution_count": 69,
     "metadata": {},
     "output_type": "execute_result"
    }
   ],
   "source": [
    "false_positive_rate, true_positive_rate, thresholds = roc_curve(Y_test, Y_pred)\n",
    "roc_auc = auc(false_positive_rate, true_positive_rate)\n",
    "roc_auc"
   ]
  },
  {
   "cell_type": "code",
   "execution_count": 70,
   "metadata": {},
   "outputs": [
    {
     "name": "stdout",
     "output_type": "stream",
     "text": [
      "[[351  42]\n",
      " [212  51]]\n",
      "              precision    recall  f1-score   support\n",
      "\n",
      "           0       0.62      0.89      0.73       393\n",
      "           1       0.55      0.19      0.29       263\n",
      "\n",
      "    accuracy                           0.61       656\n",
      "   macro avg       0.59      0.54      0.51       656\n",
      "weighted avg       0.59      0.61      0.55       656\n",
      "\n"
     ]
    }
   ],
   "source": [
    "print(confusion_matrix(Y_test, Y_pred))\n",
    "print(classification_report(Y_test, Y_pred))"
   ]
  },
  {
   "cell_type": "code",
   "execution_count": 71,
   "metadata": {},
   "outputs": [
    {
     "data": {
      "image/png": "[encoded data removed]",
      "text/plain": [
       "<Figure size 432x288 with 1 Axes>"
      ]
     },
     "metadata": {},
     "output_type": "display_data"
    }
   ],
   "source": [
    "features = X_train.columns\n",
    "importances = DT_clf.feature_importances_\n",
    "indices = np.argsort(importances)\n",
    "\n",
    "plt.title('Feature Importances')\n",
    "plt.barh(range(len(indices)), importances[indices], color='b', align='center')\n",
    "plt.yticks(range(len(indices)), [features[i] for i in indices])\n",
    "plt.xlabel('Relative Importance')\n",
    "plt.show()"
   ]
  },
  {
   "cell_type": "code",
   "execution_count": 72,
   "metadata": {},
   "outputs": [
    {
     "data": {
      "text/plain": [
       "<AxesSubplot:>"
      ]
     },
     "execution_count": 72,
     "metadata": {},
     "output_type": "execute_result"
    },
    {
     "data": {
      "image/png": "[encoded data removed]",
      "text/plain": [
       "<Figure size 432x288 with 1 Axes>"
      ]
     },
     "metadata": {},
     "output_type": "display_data"
    }
   ],
   "source": [
    "feat_imp_DT = pd.Series(DT_clf.feature_importances_, index=X_train.columns)\n",
    "feat_imp_DT.nlargest(9).plot(kind='barh') "
   ]
  },
  {
   "cell_type": "code",
   "execution_count": 73,
   "metadata": {},
   "outputs": [
    {
     "data": {
      "text/plain": [
       "['Sulfate', 'Solids', 'Hardness', 'ph', 'Chloramines']"
      ]
     },
     "execution_count": 73,
     "metadata": {},
     "output_type": "execute_result"
    }
   ],
   "source": [
    "important_feat = list(feat_imp_DT.nlargest(5).index)\n",
    "important_feat"
   ]
  },
  {
   "cell_type": "code",
   "execution_count": 74,
   "metadata": {},
   "outputs": [],
   "source": [
    "X_train_imp = X_train.loc[:,important_feat] \n",
    "X_test_imp = X_test.loc[:,important_feat]"
   ]
  },
  {
   "cell_type": "code",
   "execution_count": 75,
   "metadata": {},
   "outputs": [
    {
     "name": "stdout",
     "output_type": "stream",
     "text": [
      "<class 'pandas.core.frame.DataFrame'>\n",
      "Int64Index: 2620 entries, 3229 to 2522\n",
      "Data columns (total 5 columns):\n",
      " #   Column       Non-Null Count  Dtype  \n",
      "---  ------       --------------  -----  \n",
      " 0   Sulfate      2620 non-null   float64\n",
      " 1   Solids       2620 non-null   float64\n",
      " 2   Hardness     2620 non-null   float64\n",
      " 3   ph           2620 non-null   float64\n",
      " 4   Chloramines  2620 non-null   float64\n",
      "dtypes: float64(5)\n",
      "memory usage: 187.4 KB\n"
     ]
    }
   ],
   "source": [
    "X_train_imp.info()"
   ]
  },
  {
   "cell_type": "code",
   "execution_count": 76,
   "metadata": {},
   "outputs": [
    {
     "name": "stdout",
     "output_type": "stream",
     "text": [
      "Fitting 5 folds for each of 405 candidates, totalling 2025 fits\n"
     ]
    },
    {
     "data": {
      "text/plain": [
       "GridSearchCV(cv=5, estimator=DecisionTreeClassifier(random_state=20), n_jobs=-1,\n",
       "             param_grid={'max_depth': [2, 3, 4, 5, 6, 7, 8, 9, 10],\n",
       "                         'max_features': ['auto', 'sqrt', 'log2'],\n",
       "                         'min_samples_leaf': [5, 8, 12, 15, 20],\n",
       "                         'min_samples_split': [0.01, 0.05, 0.1]},\n",
       "             scoring='accuracy', verbose=1)"
      ]
     },
     "execution_count": 76,
     "metadata": {},
     "output_type": "execute_result"
    }
   ],
   "source": [
    "grid_search.fit(X_train_imp, Y_train)"
   ]
  },
  {
   "cell_type": "code",
   "execution_count": 77,
   "metadata": {},
   "outputs": [
    {
     "data": {
      "text/plain": [
       "{'max_depth': 9,\n",
       " 'max_features': 'auto',\n",
       " 'min_samples_leaf': 5,\n",
       " 'min_samples_split': 0.01}"
      ]
     },
     "execution_count": 77,
     "metadata": {},
     "output_type": "execute_result"
    }
   ],
   "source": [
    "grid_search.best_params_"
   ]
  },
  {
   "cell_type": "code",
   "execution_count": 78,
   "metadata": {},
   "outputs": [
    {
     "data": {
      "text/plain": [
       "0.6503816793893129"
      ]
     },
     "execution_count": 78,
     "metadata": {},
     "output_type": "execute_result"
    }
   ],
   "source": [
    "grid_search.best_score_"
   ]
  },
  {
   "cell_type": "code",
   "execution_count": 80,
   "metadata": {},
   "outputs": [],
   "source": [
    "DT_clf_imp = DecisionTreeClassifier(max_depth = 9, max_features = 'auto', min_samples_leaf = 5, min_samples_split=0.01,random_state=20)"
   ]
  },
  {
   "cell_type": "code",
   "execution_count": 81,
   "metadata": {},
   "outputs": [
    {
     "data": {
      "text/plain": [
       "DecisionTreeClassifier(max_depth=9, max_features='auto', min_samples_leaf=5,\n",
       "                       min_samples_split=0.01, random_state=20)"
      ]
     },
     "execution_count": 81,
     "metadata": {},
     "output_type": "execute_result"
    }
   ],
   "source": [
    "DT_clf_imp.fit(X_train_imp, Y_train)"
   ]
  },
  {
   "cell_type": "code",
   "execution_count": 82,
   "metadata": {},
   "outputs": [],
   "source": [
    "Y_pred_imp = DT_clf_imp.predict(X_test_imp)"
   ]
  },
  {
   "cell_type": "code",
   "execution_count": 83,
   "metadata": {},
   "outputs": [
    {
     "name": "stdout",
     "output_type": "stream",
     "text": [
      "Model accuracy score: 0.6387\n"
     ]
    }
   ],
   "source": [
    "print('Model accuracy score: {0:0.4f}'. format(accuracy_score(Y_test, Y_pred_imp)))"
   ]
  },
  {
   "cell_type": "code",
   "execution_count": 84,
   "metadata": {},
   "outputs": [
    {
     "data": {
      "text/plain": [
       "0.5701825675558007"
      ]
     },
     "execution_count": 84,
     "metadata": {},
     "output_type": "execute_result"
    }
   ],
   "source": [
    "false_positive_rate, true_positive_rate, thresholds = roc_curve(Y_test, Y_pred_imp)\n",
    "roc_auc = auc(false_positive_rate, true_positive_rate)\n",
    "roc_auc"
   ]
  },
  {
   "cell_type": "code",
   "execution_count": 85,
   "metadata": {},
   "outputs": [
    {
     "name": "stdout",
     "output_type": "stream",
     "text": [
      "[[360  33]\n",
      " [204  59]]\n",
      "              precision    recall  f1-score   support\n",
      "\n",
      "           0       0.64      0.92      0.75       393\n",
      "           1       0.64      0.22      0.33       263\n",
      "\n",
      "    accuracy                           0.64       656\n",
      "   macro avg       0.64      0.57      0.54       656\n",
      "weighted avg       0.64      0.64      0.58       656\n",
      "\n"
     ]
    }
   ],
   "source": [
    "print(confusion_matrix(Y_test, Y_pred_imp))\n",
    "print(classification_report(Y_test, Y_pred_imp))"
   ]
  },
  {
   "cell_type": "markdown",
   "metadata": {},
   "source": [
    "# Random Forest"
   ]
  },
  {
   "cell_type": "code",
   "execution_count": 86,
   "metadata": {},
   "outputs": [],
   "source": [
    "param_grid_RF = { \n",
    "    'n_estimators': [300,400,500,600,700,800],\n",
    "    'max_features': ['auto', 'sqrt', 'log2'],\n",
    "    'max_depth' : [6,7,8,9,10],\n",
    "    'criterion' :['gini', 'entropy']\n",
    "}"
   ]
  },
  {
   "cell_type": "code",
   "execution_count": 87,
   "metadata": {},
   "outputs": [],
   "source": [
    "RFC = RandomForestClassifier(random_state=20)"
   ]
  },
  {
   "cell_type": "code",
   "execution_count": 89,
   "metadata": {},
   "outputs": [
    {
     "name": "stdout",
     "output_type": "stream",
     "text": [
      "Fitting 5 folds for each of 180 candidates, totalling 900 fits\n"
     ]
    },
    {
     "name": "stderr",
     "output_type": "stream",
     "text": [
      "C:\\Users\\thanu\\anaconda3\\envs\\py37\\lib\\site-packages\\sklearn\\model_selection\\_search.py:880: DataConversionWarning: A column-vector y was passed when a 1d array was expected. Please change the shape of y to (n_samples,), for example using ravel().\n",
      "  self.best_estimator_.fit(X, y, **fit_params)\n"
     ]
    },
    {
     "data": {
      "text/plain": [
       "GridSearchCV(cv=5, estimator=RandomForestClassifier(random_state=20), n_jobs=-1,\n",
       "             param_grid={'criterion': ['gini', 'entropy'],\n",
       "                         'max_depth': [6, 7, 8, 9, 10],\n",
       "                         'max_features': ['auto', 'sqrt', 'log2'],\n",
       "                         'n_estimators': [300, 400, 500, 600, 700, 800]},\n",
       "             scoring='roc_auc', verbose=1)"
      ]
     },
     "execution_count": 89,
     "metadata": {},
     "output_type": "execute_result"
    }
   ],
   "source": [
    "Grid_rf= GridSearchCV(estimator=RFC, param_grid=param_grid_RF, cv= 5,n_jobs=-1,verbose =1,scoring='roc_auc')\n",
    "Grid_rf.fit(X_train, Y_train)"
   ]
  },
  {
   "cell_type": "code",
   "execution_count": 90,
   "metadata": {},
   "outputs": [
    {
     "data": {
      "text/plain": [
       "{'criterion': 'entropy',\n",
       " 'max_depth': 10,\n",
       " 'max_features': 'auto',\n",
       " 'n_estimators': 700}"
      ]
     },
     "execution_count": 90,
     "metadata": {},
     "output_type": "execute_result"
    }
   ],
   "source": [
    "Grid_rf.best_params_"
   ]
  },
  {
   "cell_type": "code",
   "execution_count": 91,
   "metadata": {},
   "outputs": [
    {
     "data": {
      "text/plain": [
       "0.6592207234166628"
      ]
     },
     "execution_count": 91,
     "metadata": {},
     "output_type": "execute_result"
    }
   ],
   "source": [
    "Grid_rf.best_score_"
   ]
  },
  {
   "cell_type": "code",
   "execution_count": 92,
   "metadata": {},
   "outputs": [],
   "source": [
    "RF = RandomForestClassifier(n_estimators=700,max_features='auto',max_depth=10,criterion='entropy', random_state=20 ,verbose = 1)"
   ]
  },
  {
   "cell_type": "code",
   "execution_count": 93,
   "metadata": {},
   "outputs": [
    {
     "name": "stderr",
     "output_type": "stream",
     "text": [
      "C:\\Users\\thanu\\anaconda3\\envs\\py37\\lib\\site-packages\\ipykernel_launcher.py:1: DataConversionWarning: A column-vector y was passed when a 1d array was expected. Please change the shape of y to (n_samples,), for example using ravel().\n",
      "  \"\"\"Entry point for launching an IPython kernel.\n",
      "[Parallel(n_jobs=1)]: Using backend SequentialBackend with 1 concurrent workers.\n",
      "[Parallel(n_jobs=1)]: Done 700 out of 700 | elapsed:   13.7s finished\n"
     ]
    },
    {
     "data": {
      "text/plain": [
       "RandomForestClassifier(criterion='entropy', max_depth=10, n_estimators=700,\n",
       "                       random_state=20, verbose=1)"
      ]
     },
     "execution_count": 93,
     "metadata": {},
     "output_type": "execute_result"
    }
   ],
   "source": [
    "RF.fit(X_train, Y_train)"
   ]
  },
  {
   "cell_type": "code",
   "execution_count": 94,
   "metadata": {},
   "outputs": [
    {
     "name": "stderr",
     "output_type": "stream",
     "text": [
      "[Parallel(n_jobs=1)]: Using backend SequentialBackend with 1 concurrent workers.\n"
     ]
    },
    {
     "name": "stdout",
     "output_type": "stream",
     "text": [
      "Model accuracy score: 0.6585\n"
     ]
    },
    {
     "name": "stderr",
     "output_type": "stream",
     "text": [
      "[Parallel(n_jobs=1)]: Done 700 out of 700 | elapsed:    0.2s finished\n"
     ]
    }
   ],
   "source": [
    "y_pred_RF = RF.predict(X_test)\n",
    "print('Model accuracy score: {0:0.4f}'. format(accuracy_score(Y_test,y_pred_RF)))"
   ]
  },
  {
   "cell_type": "code",
   "execution_count": 95,
   "metadata": {},
   "outputs": [
    {
     "data": {
      "text/plain": [
       "<AxesSubplot:>"
      ]
     },
     "execution_count": 95,
     "metadata": {},
     "output_type": "execute_result"
    },
    {
     "data": {
      "image/png": "[encoded data removed]",
      "text/plain": [
       "<Figure size 432x288 with 1 Axes>"
      ]
     },
     "metadata": {},
     "output_type": "display_data"
    }
   ],
   "source": [
    "feat_imp_RF = pd.Series(RF.feature_importances_, index=X_train.columns)\n",
    "feat_imp_RF.nlargest(15).plot(kind='barh') "
   ]
  },
  {
   "cell_type": "code",
   "execution_count": 96,
   "metadata": {},
   "outputs": [
    {
     "data": {
      "text/plain": [
       "ph             0.157833\n",
       "Sulfate        0.154250\n",
       "Hardness       0.123068\n",
       "Solids         0.118770\n",
       "Chloramines    0.112042\n",
       "dtype: float64"
      ]
     },
     "execution_count": 96,
     "metadata": {},
     "output_type": "execute_result"
    }
   ],
   "source": [
    "feat_imp_RF.nlargest(5)"
   ]
  },
  {
   "cell_type": "code",
   "execution_count": 97,
   "metadata": {},
   "outputs": [
    {
     "data": {
      "text/plain": [
       "['ph', 'Sulfate', 'Hardness', 'Solids', 'Chloramines']"
      ]
     },
     "execution_count": 97,
     "metadata": {},
     "output_type": "execute_result"
    }
   ],
   "source": [
    "important_feat = list(feat_imp_RF.nlargest(5).index)\n",
    "important_feat"
   ]
  },
  {
   "cell_type": "code",
   "execution_count": 98,
   "metadata": {},
   "outputs": [],
   "source": [
    "X_train_imp = X_train.loc[:,important_feat] \n",
    "X_test_imp = X_test.loc[:,important_feat]"
   ]
  },
  {
   "cell_type": "code",
   "execution_count": 99,
   "metadata": {},
   "outputs": [
    {
     "name": "stdout",
     "output_type": "stream",
     "text": [
      "Fitting 5 folds for each of 180 candidates, totalling 900 fits\n"
     ]
    },
    {
     "name": "stderr",
     "output_type": "stream",
     "text": [
      "C:\\Users\\thanu\\anaconda3\\envs\\py37\\lib\\site-packages\\sklearn\\model_selection\\_search.py:880: DataConversionWarning: A column-vector y was passed when a 1d array was expected. Please change the shape of y to (n_samples,), for example using ravel().\n",
      "  self.best_estimator_.fit(X, y, **fit_params)\n"
     ]
    },
    {
     "data": {
      "text/plain": [
       "GridSearchCV(cv=5, estimator=RandomForestClassifier(random_state=20), n_jobs=-1,\n",
       "             param_grid={'criterion': ['gini', 'entropy'],\n",
       "                         'max_depth': [6, 7, 8, 9, 10],\n",
       "                         'max_features': ['auto', 'sqrt', 'log2'],\n",
       "                         'n_estimators': [300, 400, 500, 600, 700, 800]},\n",
       "             scoring='roc_auc', verbose=1)"
      ]
     },
     "execution_count": 99,
     "metadata": {},
     "output_type": "execute_result"
    }
   ],
   "source": [
    "Grid_rf= GridSearchCV(estimator=RFC, param_grid=param_grid_RF, cv= 5,n_jobs=-1,verbose =1,scoring='roc_auc')\n",
    "Grid_rf.fit(X_train_imp, Y_train)"
   ]
  },
  {
   "cell_type": "code",
   "execution_count": 100,
   "metadata": {},
   "outputs": [
    {
     "data": {
      "text/plain": [
       "{'criterion': 'gini',\n",
       " 'max_depth': 10,\n",
       " 'max_features': 'auto',\n",
       " 'n_estimators': 800}"
      ]
     },
     "execution_count": 100,
     "metadata": {},
     "output_type": "execute_result"
    }
   ],
   "source": [
    "Grid_rf.best_params_"
   ]
  },
  {
   "cell_type": "code",
   "execution_count": 101,
   "metadata": {},
   "outputs": [
    {
     "data": {
      "text/plain": [
       "0.696385985912251"
      ]
     },
     "execution_count": 101,
     "metadata": {},
     "output_type": "execute_result"
    }
   ],
   "source": [
    "Grid_rf.best_score_"
   ]
  },
  {
   "cell_type": "code",
   "execution_count": 102,
   "metadata": {},
   "outputs": [],
   "source": [
    "RF = RandomForestClassifier(n_estimators=800,max_features='auto',max_depth=10,criterion='gini', random_state=20 ,verbose = 1)"
   ]
  },
  {
   "cell_type": "code",
   "execution_count": 103,
   "metadata": {},
   "outputs": [
    {
     "name": "stderr",
     "output_type": "stream",
     "text": [
      "C:\\Users\\thanu\\anaconda3\\envs\\py37\\lib\\site-packages\\ipykernel_launcher.py:1: DataConversionWarning: A column-vector y was passed when a 1d array was expected. Please change the shape of y to (n_samples,), for example using ravel().\n",
      "  \"\"\"Entry point for launching an IPython kernel.\n",
      "[Parallel(n_jobs=1)]: Using backend SequentialBackend with 1 concurrent workers.\n",
      "[Parallel(n_jobs=1)]: Done 800 out of 800 | elapsed:    8.6s finished\n"
     ]
    },
    {
     "data": {
      "text/plain": [
       "RandomForestClassifier(max_depth=10, n_estimators=800, random_state=20,\n",
       "                       verbose=1)"
      ]
     },
     "execution_count": 103,
     "metadata": {},
     "output_type": "execute_result"
    }
   ],
   "source": [
    "RF.fit(X_train_imp, Y_train)"
   ]
  },
  {
   "cell_type": "code",
   "execution_count": 104,
   "metadata": {},
   "outputs": [
    {
     "name": "stderr",
     "output_type": "stream",
     "text": [
      "[Parallel(n_jobs=1)]: Using backend SequentialBackend with 1 concurrent workers.\n",
      "[Parallel(n_jobs=1)]: Done 800 out of 800 | elapsed:    0.3s finished\n"
     ]
    }
   ],
   "source": [
    "Y_pred_imp = RF.predict(X_test_imp)"
   ]
  },
  {
   "cell_type": "code",
   "execution_count": 105,
   "metadata": {},
   "outputs": [
    {
     "name": "stdout",
     "output_type": "stream",
     "text": [
      "Model accuracy score: 0.6692\n"
     ]
    }
   ],
   "source": [
    "print('Model accuracy score: {0:0.4f}'. format(accuracy_score(Y_test, Y_pred_imp)))"
   ]
  },
  {
   "cell_type": "code",
   "execution_count": 106,
   "metadata": {},
   "outputs": [
    {
     "data": {
      "text/plain": [
       "0.6063187530839114"
      ]
     },
     "execution_count": 106,
     "metadata": {},
     "output_type": "execute_result"
    }
   ],
   "source": [
    "false_positive_rate, true_positive_rate, thresholds = roc_curve(Y_test, Y_pred_imp)\n",
    "roc_auc = auc(false_positive_rate, true_positive_rate)\n",
    "roc_auc"
   ]
  },
  {
   "cell_type": "code",
   "execution_count": 107,
   "metadata": {},
   "outputs": [
    {
     "name": "stdout",
     "output_type": "stream",
     "text": [
      "[[363  30]\n",
      " [187  76]]\n",
      "              precision    recall  f1-score   support\n",
      "\n",
      "           0       0.66      0.92      0.77       393\n",
      "           1       0.72      0.29      0.41       263\n",
      "\n",
      "    accuracy                           0.67       656\n",
      "   macro avg       0.69      0.61      0.59       656\n",
      "weighted avg       0.68      0.67      0.63       656\n",
      "\n"
     ]
    }
   ],
   "source": [
    "print(confusion_matrix(Y_test, Y_pred_imp))\n",
    "print(classification_report(Y_test, Y_pred_imp))"
   ]
  },
  {
   "cell_type": "markdown",
   "metadata": {},
   "source": [
    "### WIthout standardizing"
   ]
  },
  {
   "cell_type": "code",
   "execution_count": 109,
   "metadata": {},
   "outputs": [],
   "source": [
    "X_train = train.iloc[:,:-1]\n",
    "Y_train = train.iloc[:,-1:]"
   ]
  },
  {
   "cell_type": "code",
   "execution_count": 110,
   "metadata": {},
   "outputs": [],
   "source": [
    "X_test = test.iloc[:,:-1]\n",
    "Y_test = test.iloc[:,-1:]"
   ]
  },
  {
   "cell_type": "markdown",
   "metadata": {},
   "source": [
    "# XG BOOST"
   ]
  },
  {
   "cell_type": "code",
   "execution_count": 111,
   "metadata": {},
   "outputs": [],
   "source": [
    "import xgboost as xgb\n",
    "from xgboost import XGBClassifier"
   ]
  },
  {
   "cell_type": "code",
   "execution_count": 112,
   "metadata": {},
   "outputs": [
    {
     "name": "stderr",
     "output_type": "stream",
     "text": [
      "C:\\Users\\thanu\\anaconda3\\envs\\py37\\lib\\site-packages\\xgboost\\sklearn.py:1146: UserWarning: The use of label encoder in XGBClassifier is deprecated and will be removed in a future release. To remove this warning, do the following: 1) Pass option use_label_encoder=False when constructing XGBClassifier object; and 2) Encode your labels (y) as integers starting with 0, i.e. 0, 1, 2, ..., [num_class - 1].\n",
      "  warnings.warn(label_encoder_deprecation_msg, UserWarning)\n",
      "C:\\Users\\thanu\\anaconda3\\envs\\py37\\lib\\site-packages\\sklearn\\utils\\validation.py:63: DataConversionWarning: A column-vector y was passed when a 1d array was expected. Please change the shape of y to (n_samples, ), for example using ravel().\n",
      "  return f(*args, **kwargs)\n"
     ]
    },
    {
     "data": {
      "text/plain": [
       "XGBClassifier(base_score=0.5, booster='gbtree', colsample_bylevel=1,\n",
       "              colsample_bynode=1, colsample_bytree=1, eval_metric='auc',\n",
       "              gamma=0, gpu_id=-1, importance_type='gain',\n",
       "              interaction_constraints='', learning_rate=0.01, max_delta_step=0,\n",
       "              max_depth=6, min_child_weight=1, missing=nan,\n",
       "              monotone_constraints='()', n_estimators=100, n_jobs=8,\n",
       "              num_parallel_tree=1, random_state=20, reg_alpha=0, reg_lambda=1,\n",
       "              scale_pos_weight=1, subsample=1, tree_method='exact',\n",
       "              validate_parameters=1, verbosity=None)"
      ]
     },
     "execution_count": 112,
     "metadata": {},
     "output_type": "execute_result"
    }
   ],
   "source": [
    "xgb_model = XGBClassifier( random_state=20,learning_rate=0.01,eval_metric='auc')\n",
    "# fit the model with the training data\n",
    "xgb_model.fit(X_train,Y_train)"
   ]
  },
  {
   "cell_type": "code",
   "execution_count": 113,
   "metadata": {},
   "outputs": [],
   "source": [
    "y_pred_xgb = xgb_model.predict(X_test)"
   ]
  },
  {
   "cell_type": "code",
   "execution_count": 114,
   "metadata": {},
   "outputs": [
    {
     "name": "stdout",
     "output_type": "stream",
     "text": [
      "Model accuracy score: 0.6524\n"
     ]
    }
   ],
   "source": [
    "print('Model accuracy score: {0:0.4f}'. format(accuracy_score(Y_test,y_pred_xgb)))"
   ]
  },
  {
   "cell_type": "code",
   "execution_count": 115,
   "metadata": {},
   "outputs": [
    {
     "data": {
      "text/plain": [
       "<AxesSubplot:>"
      ]
     },
     "execution_count": 115,
     "metadata": {},
     "output_type": "execute_result"
    },
    {
     "data": {
      "image/png": "[encoded data removed]",
      "text/plain": [
       "<Figure size 432x288 with 1 Axes>"
      ]
     },
     "metadata": {},
     "output_type": "display_data"
    }
   ],
   "source": [
    "feat_imp_xgb = pd.Series(xgb_model.feature_importances_, index=X_train.columns)\n",
    "feat_imp_xgb.nlargest(15).plot(kind='barh') "
   ]
  },
  {
   "cell_type": "code",
   "execution_count": 116,
   "metadata": {},
   "outputs": [
    {
     "data": {
      "text/plain": [
       "['ph', 'Sulfate', 'Hardness', 'Solids', 'Chloramines']"
      ]
     },
     "execution_count": 116,
     "metadata": {},
     "output_type": "execute_result"
    }
   ],
   "source": [
    "imp_feat_xgb = list(feat_imp_xgb.nlargest(5).index)\n",
    "imp_feat_xgb"
   ]
  },
  {
   "cell_type": "code",
   "execution_count": 117,
   "metadata": {},
   "outputs": [],
   "source": [
    "X_train_xgb = X_train.loc[:,imp_feat_xgb] \n",
    "X_test_xgb = X_test.loc[:,imp_feat_xgb]"
   ]
  },
  {
   "cell_type": "code",
   "execution_count": 118,
   "metadata": {},
   "outputs": [
    {
     "data": {
      "text/html": [
       "<div>\n",
       "<style scoped>\n",
       "    .dataframe tbody tr th:only-of-type {\n",
       "        vertical-align: middle;\n",
       "    }\n",
       "\n",
       "    .dataframe tbody tr th {\n",
       "        vertical-align: top;\n",
       "    }\n",
       "\n",
       "    .dataframe thead th {\n",
       "        text-align: right;\n",
       "    }\n",
       "</style>\n",
       "<table border=\"1\" class=\"dataframe\">\n",
       "  <thead>\n",
       "    <tr style=\"text-align: right;\">\n",
       "      <th></th>\n",
       "      <th>ph</th>\n",
       "      <th>Sulfate</th>\n",
       "      <th>Hardness</th>\n",
       "      <th>Solids</th>\n",
       "      <th>Chloramines</th>\n",
       "    </tr>\n",
       "  </thead>\n",
       "  <tbody>\n",
       "    <tr>\n",
       "      <th>2378</th>\n",
       "      <td>5.800034</td>\n",
       "      <td>374.357784</td>\n",
       "      <td>181.453515</td>\n",
       "      <td>13028.688458</td>\n",
       "      <td>6.106765</td>\n",
       "    </tr>\n",
       "    <tr>\n",
       "      <th>1444</th>\n",
       "      <td>6.848033</td>\n",
       "      <td>373.206834</td>\n",
       "      <td>165.815326</td>\n",
       "      <td>6068.454885</td>\n",
       "      <td>6.132132</td>\n",
       "    </tr>\n",
       "    <tr>\n",
       "      <th>303</th>\n",
       "      <td>7.065913</td>\n",
       "      <td>298.226719</td>\n",
       "      <td>181.689164</td>\n",
       "      <td>27776.180257</td>\n",
       "      <td>7.589869</td>\n",
       "    </tr>\n",
       "    <tr>\n",
       "      <th>2113</th>\n",
       "      <td>6.519848</td>\n",
       "      <td>373.091575</td>\n",
       "      <td>183.225998</td>\n",
       "      <td>14284.647917</td>\n",
       "      <td>8.389078</td>\n",
       "    </tr>\n",
       "    <tr>\n",
       "      <th>2537</th>\n",
       "      <td>5.499788</td>\n",
       "      <td>322.516582</td>\n",
       "      <td>150.076090</td>\n",
       "      <td>43195.473668</td>\n",
       "      <td>6.570596</td>\n",
       "    </tr>\n",
       "    <tr>\n",
       "      <th>...</th>\n",
       "      <td>...</td>\n",
       "      <td>...</td>\n",
       "      <td>...</td>\n",
       "      <td>...</td>\n",
       "      <td>...</td>\n",
       "    </tr>\n",
       "    <tr>\n",
       "      <th>1927</th>\n",
       "      <td>7.065913</td>\n",
       "      <td>333.840808</td>\n",
       "      <td>179.756708</td>\n",
       "      <td>25703.155201</td>\n",
       "      <td>7.287310</td>\n",
       "    </tr>\n",
       "    <tr>\n",
       "      <th>3264</th>\n",
       "      <td>5.893103</td>\n",
       "      <td>341.256362</td>\n",
       "      <td>239.269481</td>\n",
       "      <td>20526.666156</td>\n",
       "      <td>6.349561</td>\n",
       "    </tr>\n",
       "    <tr>\n",
       "      <th>59</th>\n",
       "      <td>7.065913</td>\n",
       "      <td>333.840808</td>\n",
       "      <td>155.055727</td>\n",
       "      <td>20557.240432</td>\n",
       "      <td>8.187319</td>\n",
       "    </tr>\n",
       "    <tr>\n",
       "      <th>605</th>\n",
       "      <td>6.492639</td>\n",
       "      <td>349.404057</td>\n",
       "      <td>172.863960</td>\n",
       "      <td>14625.561363</td>\n",
       "      <td>7.736570</td>\n",
       "    </tr>\n",
       "    <tr>\n",
       "      <th>2369</th>\n",
       "      <td>6.174751</td>\n",
       "      <td>338.703016</td>\n",
       "      <td>138.513588</td>\n",
       "      <td>21504.138821</td>\n",
       "      <td>10.860295</td>\n",
       "    </tr>\n",
       "  </tbody>\n",
       "</table>\n",
       "<p>656 rows × 5 columns</p>\n",
       "</div>"
      ],
      "text/plain": [
       "            ph     Sulfate    Hardness        Solids  Chloramines\n",
       "2378  5.800034  374.357784  181.453515  13028.688458     6.106765\n",
       "1444  6.848033  373.206834  165.815326   6068.454885     6.132132\n",
       "303   7.065913  298.226719  181.689164  27776.180257     7.589869\n",
       "2113  6.519848  373.091575  183.225998  14284.647917     8.389078\n",
       "2537  5.499788  322.516582  150.076090  43195.473668     6.570596\n",
       "...        ...         ...         ...           ...          ...\n",
       "1927  7.065913  333.840808  179.756708  25703.155201     7.287310\n",
       "3264  5.893103  341.256362  239.269481  20526.666156     6.349561\n",
       "59    7.065913  333.840808  155.055727  20557.240432     8.187319\n",
       "605   6.492639  349.404057  172.863960  14625.561363     7.736570\n",
       "2369  6.174751  338.703016  138.513588  21504.138821    10.860295\n",
       "\n",
       "[656 rows x 5 columns]"
      ]
     },
     "execution_count": 118,
     "metadata": {},
     "output_type": "execute_result"
    }
   ],
   "source": [
    "X_test_xgb"
   ]
  },
  {
   "cell_type": "code",
   "execution_count": 119,
   "metadata": {},
   "outputs": [],
   "source": [
    "params_xgb = {\n",
    "    'max_depth': [4,5,6,7,8],\n",
    "    'n_estimators': [300,400,500,600,700],\n",
    "    'learning_rate': [0.1, 0.01, 0.05],\n",
    "    'subsample':[i/10.0 for i in range(6,8)],\n",
    "    'gamma':[i/10.0 for i in range(0,3)],\n",
    "}"
   ]
  },
  {
   "cell_type": "code",
   "execution_count": 120,
   "metadata": {},
   "outputs": [],
   "source": [
    "estimator = XGBClassifier(\n",
    "    random_state=20,\n",
    "    nthread=4\n",
    ")"
   ]
  },
  {
   "cell_type": "code",
   "execution_count": 121,
   "metadata": {},
   "outputs": [
    {
     "name": "stdout",
     "output_type": "stream",
     "text": [
      "Fitting 5 folds for each of 450 candidates, totalling 2250 fits\n"
     ]
    },
    {
     "name": "stderr",
     "output_type": "stream",
     "text": [
      "C:\\Users\\thanu\\anaconda3\\envs\\py37\\lib\\site-packages\\xgboost\\sklearn.py:1146: UserWarning: The use of label encoder in XGBClassifier is deprecated and will be removed in a future release. To remove this warning, do the following: 1) Pass option use_label_encoder=False when constructing XGBClassifier object; and 2) Encode your labels (y) as integers starting with 0, i.e. 0, 1, 2, ..., [num_class - 1].\n",
      "  warnings.warn(label_encoder_deprecation_msg, UserWarning)\n",
      "C:\\Users\\thanu\\anaconda3\\envs\\py37\\lib\\site-packages\\sklearn\\utils\\validation.py:63: DataConversionWarning: A column-vector y was passed when a 1d array was expected. Please change the shape of y to (n_samples, ), for example using ravel().\n",
      "  return f(*args, **kwargs)\n"
     ]
    },
    {
     "name": "stdout",
     "output_type": "stream",
     "text": [
      "[00:02:55] WARNING: C:/Users/Administrator/workspace/xgboost-win64_release_1.4.0/src/learner.cc:1095: Starting in XGBoost 1.3.0, the default evaluation metric used with the objective 'binary:logistic' was changed from 'error' to 'logloss'. Explicitly set eval_metric if you'd like to restore the old behavior.\n"
     ]
    },
    {
     "data": {
      "text/plain": [
       "GridSearchCV(cv=5,\n",
       "             estimator=XGBClassifier(base_score=None, booster=None,\n",
       "                                     colsample_bylevel=None,\n",
       "                                     colsample_bynode=None,\n",
       "                                     colsample_bytree=None, gamma=None,\n",
       "                                     gpu_id=None, importance_type='gain',\n",
       "                                     interaction_constraints=None,\n",
       "                                     learning_rate=None, max_delta_step=None,\n",
       "                                     max_depth=None, min_child_weight=None,\n",
       "                                     missing=nan, monotone_constraints=None,\n",
       "                                     n_estimators=100, n_jobs=None, nthread=4,\n",
       "                                     num_parallel_tree=None, random_state=20,\n",
       "                                     reg_alpha=None, reg_lambda=None,\n",
       "                                     scale_pos_weight=None, subsample=None,\n",
       "                                     tree_method=None, validate_parameters=None,\n",
       "                                     verbosity=None),\n",
       "             n_jobs=-1,\n",
       "             param_grid={'gamma': [0.0, 0.1, 0.2],\n",
       "                         'learning_rate': [0.1, 0.01, 0.05],\n",
       "                         'max_depth': [4, 5, 6, 7, 8],\n",
       "                         'n_estimators': [300, 400, 500, 600, 700],\n",
       "                         'subsample': [0.6, 0.7]},\n",
       "             verbose=1)"
      ]
     },
     "execution_count": 121,
     "metadata": {},
     "output_type": "execute_result"
    }
   ],
   "source": [
    "grid_search_xgb = GridSearchCV(estimator=estimator, \n",
    "                           param_grid=params_xgb, \n",
    "                           cv=5, n_jobs=-1, verbose=1)\n",
    "grid_search_xgb.fit(X_train_xgb, Y_train)"
   ]
  },
  {
   "cell_type": "code",
   "execution_count": 122,
   "metadata": {},
   "outputs": [
    {
     "data": {
      "text/plain": [
       "{'gamma': 0.1,\n",
       " 'learning_rate': 0.01,\n",
       " 'max_depth': 8,\n",
       " 'n_estimators': 300,\n",
       " 'subsample': 0.6}"
      ]
     },
     "execution_count": 122,
     "metadata": {},
     "output_type": "execute_result"
    }
   ],
   "source": [
    "grid_search_xgb.best_params_"
   ]
  },
  {
   "cell_type": "code",
   "execution_count": 123,
   "metadata": {},
   "outputs": [
    {
     "data": {
      "text/plain": [
       "XGBClassifier(base_score=0.5, booster='gbtree', colsample_bylevel=1,\n",
       "              colsample_bynode=1, colsample_bytree=1, gamma=0.1, gpu_id=-1,\n",
       "              importance_type='gain', interaction_constraints='',\n",
       "              learning_rate=0.01, max_delta_step=0, max_depth=8,\n",
       "              min_child_weight=1, missing=nan, monotone_constraints='()',\n",
       "              n_estimators=300, n_jobs=4, nthread=4, num_parallel_tree=1,\n",
       "              random_state=20, reg_alpha=0, reg_lambda=1, scale_pos_weight=1,\n",
       "              subsample=0.6, tree_method='exact', validate_parameters=1,\n",
       "              verbosity=None)"
      ]
     },
     "execution_count": 123,
     "metadata": {},
     "output_type": "execute_result"
    }
   ],
   "source": [
    "grid_search_xgb.best_estimator_"
   ]
  },
  {
   "cell_type": "code",
   "execution_count": 125,
   "metadata": {},
   "outputs": [],
   "source": [
    "final_xgb = XGBClassifier(base_score=0.5, booster='gbtree', colsample_bylevel=1,\n",
    "              colsample_bynode=1, colsample_bytree=1, gamma=0.1, gpu_id=-1,\n",
    "              importance_type='gain', interaction_constraints='',\n",
    "              learning_rate=0.01, max_delta_step=0, max_depth=8,\n",
    "              min_child_weight=1, monotone_constraints='()',\n",
    "              n_estimators=300, n_jobs=4, nthread=4, num_parallel_tree=1,\n",
    "              random_state=20, reg_alpha=0, reg_lambda=1, scale_pos_weight=1,\n",
    "              subsample=0.6, tree_method='exact', validate_parameters=1,\n",
    "              verbosity=None)"
   ]
  },
  {
   "cell_type": "code",
   "execution_count": 126,
   "metadata": {},
   "outputs": [
    {
     "name": "stdout",
     "output_type": "stream",
     "text": [
      "[00:04:32] WARNING: C:/Users/Administrator/workspace/xgboost-win64_release_1.4.0/src/learner.cc:1095: Starting in XGBoost 1.3.0, the default evaluation metric used with the objective 'binary:logistic' was changed from 'error' to 'logloss'. Explicitly set eval_metric if you'd like to restore the old behavior.\n"
     ]
    },
    {
     "data": {
      "text/plain": [
       "XGBClassifier(base_score=0.5, booster='gbtree', colsample_bylevel=1,\n",
       "              colsample_bynode=1, colsample_bytree=1, gamma=0.1, gpu_id=-1,\n",
       "              importance_type='gain', interaction_constraints='',\n",
       "              learning_rate=0.01, max_delta_step=0, max_depth=8,\n",
       "              min_child_weight=1, missing=nan, monotone_constraints='()',\n",
       "              n_estimators=300, n_jobs=4, nthread=4, num_parallel_tree=1,\n",
       "              random_state=20, reg_alpha=0, reg_lambda=1, scale_pos_weight=1,\n",
       "              subsample=0.6, tree_method='exact', validate_parameters=1,\n",
       "              verbosity=None)"
      ]
     },
     "execution_count": 126,
     "metadata": {},
     "output_type": "execute_result"
    }
   ],
   "source": [
    "final_xgb.fit(X_train_xgb, Y_train)"
   ]
  },
  {
   "cell_type": "code",
   "execution_count": 127,
   "metadata": {},
   "outputs": [],
   "source": [
    "y_pred_xgb = final_xgb.predict(X_test_xgb)"
   ]
  },
  {
   "cell_type": "code",
   "execution_count": 128,
   "metadata": {},
   "outputs": [
    {
     "name": "stdout",
     "output_type": "stream",
     "text": [
      "Model accuracy score: 0.6905\n"
     ]
    }
   ],
   "source": [
    "print('Model accuracy score: {0:0.4f}'. format(accuracy_score(Y_test, y_pred_xgb)))"
   ]
  },
  {
   "cell_type": "code",
   "execution_count": 129,
   "metadata": {},
   "outputs": [
    {
     "data": {
      "text/plain": [
       "0.6373368550392321"
      ]
     },
     "execution_count": 129,
     "metadata": {},
     "output_type": "execute_result"
    }
   ],
   "source": [
    "false_positive_rate, true_positive_rate, thresholds = roc_curve(Y_test, y_pred_xgb)\n",
    "roc_auc = auc(false_positive_rate, true_positive_rate)\n",
    "roc_auc"
   ]
  },
  {
   "cell_type": "code",
   "execution_count": 130,
   "metadata": {},
   "outputs": [
    {
     "name": "stdout",
     "output_type": "stream",
     "text": [
      "[[356  37]\n",
      " [166  97]]\n",
      "              precision    recall  f1-score   support\n",
      "\n",
      "           0       0.68      0.91      0.78       393\n",
      "           1       0.72      0.37      0.49       263\n",
      "\n",
      "    accuracy                           0.69       656\n",
      "   macro avg       0.70      0.64      0.63       656\n",
      "weighted avg       0.70      0.69      0.66       656\n",
      "\n"
     ]
    }
   ],
   "source": [
    "print(confusion_matrix(Y_test, y_pred_xgb))\n",
    "print(classification_report(Y_test, y_pred_xgb))"
   ]
  },
  {
   "cell_type": "code",
   "execution_count": 131,
   "metadata": {},
   "outputs": [],
   "source": [
    "import pickle"
   ]
  },
  {
   "cell_type": "code",
   "execution_count": 133,
   "metadata": {},
   "outputs": [],
   "source": [
    "# save the model to disk\n",
    "filename = 'finalized_model.pkl'\n",
    "pickle.dump(final_xgb, open(filename, 'wb'))"
   ]
  },
  {
   "cell_type": "code",
   "execution_count": 134,
   "metadata": {},
   "outputs": [
    {
     "name": "stdout",
     "output_type": "stream",
     "text": [
      "0.6905487804878049\n"
     ]
    }
   ],
   "source": [
    "# load the model from disk\n",
    "filename = 'finalized_model.pkl'\n",
    "loaded_model = pickle.load(open(filename, 'rb'))\n",
    "result = loaded_model.score(X_test_xgb, Y_test)\n",
    "print(result)"
   ]
  }
 ],
 "metadata": {
  "kernelspec": {
   "display_name": "Python 3",
   "language": "python",
   "name": "python3"
  },
  "language_info": {
   "codemirror_mode": {
    "name": "ipython",
    "version": 3
   },
   "file_extension": ".py",
   "mimetype": "text/x-python",
   "name": "python",
   "nbconvert_exporter": "python",
   "pygments_lexer": "ipython3",
   "version": "3.8.5"
  }
 },
 "nbformat": 4,
 "nbformat_minor": 4
}
